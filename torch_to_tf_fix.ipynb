{
 "cells": [
  {
   "cell_type": "code",
   "execution_count": null,
   "metadata": {
    "id": "5F_Y4dVOyZux"
   },
   "outputs": [],
   "source": [
    "from google.colab import drive\n",
    "drive.mount(\"/content/drive\")"
   ]
  },
  {
   "cell_type": "code",
   "execution_count": null,
   "metadata": {
    "id": "OpnoSnYEjoqU"
   },
   "outputs": [],
   "source": [
    "!pip install tensorflow==2.5.0"
   ]
  },
  {
   "cell_type": "code",
   "execution_count": null,
   "metadata": {
    "id": "1hLv4eCQySV6"
   },
   "outputs": [],
   "source": [
    "import os"
   ]
  },
  {
   "cell_type": "code",
   "execution_count": null,
   "metadata": {
    "colab": {
     "base_uri": "https://localhost:8080/",
     "height": 35
    },
    "id": "WZQtvuGwySWP",
    "outputId": "1a56fa3e-7963-4d38-d185-52fa8f87442c"
   },
   "outputs": [
    {
     "data": {
      "application/vnd.google.colaboratory.intrinsic+json": {
       "type": "string"
      },
      "text/plain": [
       "'2.3.0'"
      ]
     },
     "execution_count": 2,
     "metadata": {},
     "output_type": "execute_result"
    }
   ],
   "source": [
    "import tensorflow as tf\n",
    "tf.version.VERSION"
   ]
  },
  {
   "cell_type": "code",
   "execution_count": null,
   "metadata": {
    "id": "usqnrdL8ySWV"
   },
   "outputs": [],
   "source": [
    "os.chdir(\"/content/drive/MyDrive/cr/crfill/networks\")"
   ]
  },
  {
   "cell_type": "code",
   "execution_count": null,
   "metadata": {
    "id": "8hPKi3S-ySWX"
   },
   "outputs": [],
   "source": [
    "from convnet_tf import InpaintGenerator_tf,InpaintGenerator_tf_new ,contextual_module"
   ]
  },
  {
   "cell_type": "markdown",
   "metadata": {
    "id": "R54cV7J44t5E"
   },
   "source": [
    "## Load weight for contextual "
   ]
  },
  {
   "cell_type": "code",
   "execution_count": null,
   "metadata": {
    "id": "U7GIICek3TTJ"
   },
   "outputs": [],
   "source": [
    "contextual = contextual_module(shape = (64,64,96),new_shape = (256,256,1))"
   ]
  },
  {
   "cell_type": "code",
   "execution_count": null,
   "metadata": {
    "id": "nk4Kn8XM41Ad"
   },
   "outputs": [],
   "source": [
    "# import torch\n",
    "# model = torch.load(\"/content/drive/MyDrive/generative_inpaintingv2/contextual_loss/crfill/checkpoint/InpaintGenerator_gen_full.pth\",map_location=torch.device('cpu'))\n",
    "import torch\n",
    "model = torch.load(\"/content/drive/MyDrive/generative_inpaintingv2/contextual_loss_fix_mask_wise_and_pixel_shuffle/checkpoint/checkpoint_change_dis/backup_after_change_batch/InpaintGenerator_gen_full.pth\",map_location=torch.device('cpu'))"
   ]
  },
  {
   "cell_type": "code",
   "execution_count": null,
   "metadata": {
    "colab": {
     "base_uri": "https://localhost:8080/"
    },
    "id": "ryWXNYfP5KUe",
    "outputId": "29e0917d-fbf9-426b-902d-e9d8fc76752b"
   },
   "outputs": [
    {
     "name": "stdout",
     "output_type": "stream",
     "text": [
      "baseg.conv1.weight   torch.Size([24, 5, 5, 5])\n",
      "baseg.conv1.bias     torch.Size([24])\n",
      "baseg.conv1.mask_conv2d.weight torch.Size([1, 5, 5, 5])\n",
      "baseg.conv1.mask_conv2d.bias torch.Size([1])\n",
      "baseg.conv2_downsample.weight torch.Size([48, 24, 3, 3])\n",
      "baseg.conv2_downsample.bias torch.Size([48])\n",
      "baseg.conv2_downsample.mask_conv2d.weight torch.Size([1, 24, 3, 3])\n",
      "baseg.conv2_downsample.mask_conv2d.bias torch.Size([1])\n",
      "baseg.conv3.weight   torch.Size([48, 48, 3, 3])\n",
      "baseg.conv3.bias     torch.Size([48])\n",
      "baseg.conv3.mask_conv2d.weight torch.Size([1, 48, 3, 3])\n",
      "baseg.conv3.mask_conv2d.bias torch.Size([1])\n",
      "baseg.conv4_downsample.weight torch.Size([96, 48, 3, 3])\n",
      "baseg.conv4_downsample.bias torch.Size([96])\n",
      "baseg.conv4_downsample.mask_conv2d.weight torch.Size([1, 48, 3, 3])\n",
      "baseg.conv4_downsample.mask_conv2d.bias torch.Size([1])\n",
      "baseg.conv5.weight   torch.Size([96, 96, 3, 3])\n",
      "baseg.conv5.bias     torch.Size([96])\n",
      "baseg.conv5.mask_conv2d.weight torch.Size([1, 96, 3, 3])\n",
      "baseg.conv5.mask_conv2d.bias torch.Size([1])\n",
      "baseg.conv6.weight   torch.Size([96, 96, 3, 3])\n",
      "baseg.conv6.bias     torch.Size([96])\n",
      "baseg.conv6.mask_conv2d.weight torch.Size([1, 96, 3, 3])\n",
      "baseg.conv6.mask_conv2d.bias torch.Size([1])\n",
      "baseg.conv7_atrous.weight torch.Size([96, 96, 3, 3])\n",
      "baseg.conv7_atrous.bias torch.Size([96])\n",
      "baseg.conv7_atrous.mask_conv2d.weight torch.Size([1, 96, 3, 3])\n",
      "baseg.conv7_atrous.mask_conv2d.bias torch.Size([1])\n",
      "baseg.conv8_atrous.weight torch.Size([96, 96, 3, 3])\n",
      "baseg.conv8_atrous.bias torch.Size([96])\n",
      "baseg.conv8_atrous.mask_conv2d.weight torch.Size([1, 96, 3, 3])\n",
      "baseg.conv8_atrous.mask_conv2d.bias torch.Size([1])\n",
      "baseg.conv9_atrous.weight torch.Size([96, 96, 3, 3])\n",
      "baseg.conv9_atrous.bias torch.Size([96])\n",
      "baseg.conv9_atrous.mask_conv2d.weight torch.Size([1, 96, 3, 3])\n",
      "baseg.conv9_atrous.mask_conv2d.bias torch.Size([1])\n",
      "baseg.conv10_atrous.weight torch.Size([96, 96, 3, 3])\n",
      "baseg.conv10_atrous.bias torch.Size([96])\n",
      "baseg.conv10_atrous.mask_conv2d.weight torch.Size([1, 96, 3, 3])\n",
      "baseg.conv10_atrous.mask_conv2d.bias torch.Size([1])\n",
      "baseg.conv11.weight  torch.Size([96, 96, 3, 3])\n",
      "baseg.conv11.bias    torch.Size([96])\n",
      "baseg.conv11.mask_conv2d.weight torch.Size([1, 96, 3, 3])\n",
      "baseg.conv11.mask_conv2d.bias torch.Size([1])\n",
      "baseg.conv12.weight  torch.Size([96, 96, 3, 3])\n",
      "baseg.conv12.bias    torch.Size([96])\n",
      "baseg.conv12.mask_conv2d.weight torch.Size([1, 96, 3, 3])\n",
      "baseg.conv12.mask_conv2d.bias torch.Size([1])\n",
      "baseg.conv13_upsample_conv.weight torch.Size([192, 96, 3, 3])\n",
      "baseg.conv13_upsample_conv.bias torch.Size([192])\n",
      "baseg.conv13_upsample_conv.mask_conv2d.weight torch.Size([1, 96, 3, 3])\n",
      "baseg.conv13_upsample_conv.mask_conv2d.bias torch.Size([1])\n",
      "baseg.conv14.weight  torch.Size([48, 48, 3, 3])\n",
      "baseg.conv14.bias    torch.Size([48])\n",
      "baseg.conv14.mask_conv2d.weight torch.Size([1, 48, 3, 3])\n",
      "baseg.conv14.mask_conv2d.bias torch.Size([1])\n",
      "baseg.conv15_upsample_conv.weight torch.Size([96, 48, 3, 3])\n",
      "baseg.conv15_upsample_conv.bias torch.Size([96])\n",
      "baseg.conv15_upsample_conv.mask_conv2d.weight torch.Size([1, 48, 3, 3])\n",
      "baseg.conv15_upsample_conv.mask_conv2d.bias torch.Size([1])\n",
      "baseg.conv16.weight  torch.Size([12, 24, 3, 3])\n",
      "baseg.conv16.bias    torch.Size([12])\n",
      "baseg.conv16.mask_conv2d.weight torch.Size([1, 24, 3, 3])\n",
      "baseg.conv16.mask_conv2d.bias torch.Size([1])\n",
      "baseg.conv17.weight  torch.Size([3, 12, 3, 3])\n",
      "baseg.conv17.bias    torch.Size([3])\n",
      "baseg.xconv1.weight  torch.Size([24, 3, 5, 5])\n",
      "baseg.xconv1.bias    torch.Size([24])\n",
      "baseg.xconv1.mask_conv2d.weight torch.Size([24, 3, 1, 1])\n",
      "baseg.xconv1.mask_conv2d.bias torch.Size([24])\n",
      "baseg.xconv2_downsample.weight torch.Size([24, 24, 3, 3])\n",
      "baseg.xconv2_downsample.bias torch.Size([24])\n",
      "baseg.xconv2_downsample.mask_conv2d.weight torch.Size([24, 24, 1, 1])\n",
      "baseg.xconv2_downsample.mask_conv2d.bias torch.Size([24])\n",
      "baseg.xconv3.weight  torch.Size([48, 24, 3, 3])\n",
      "baseg.xconv3.bias    torch.Size([48])\n",
      "baseg.xconv3.mask_conv2d.weight torch.Size([48, 24, 1, 1])\n",
      "baseg.xconv3.mask_conv2d.bias torch.Size([48])\n",
      "baseg.xconv4_downsample.weight torch.Size([48, 48, 3, 3])\n",
      "baseg.xconv4_downsample.bias torch.Size([48])\n",
      "baseg.xconv4_downsample.mask_conv2d.weight torch.Size([48, 48, 1, 1])\n",
      "baseg.xconv4_downsample.mask_conv2d.bias torch.Size([48])\n",
      "baseg.xconv5.weight  torch.Size([96, 48, 3, 3])\n",
      "baseg.xconv5.bias    torch.Size([96])\n",
      "baseg.xconv5.mask_conv2d.weight torch.Size([96, 48, 1, 1])\n",
      "baseg.xconv5.mask_conv2d.bias torch.Size([96])\n",
      "baseg.xconv6.weight  torch.Size([96, 96, 3, 3])\n",
      "baseg.xconv6.bias    torch.Size([96])\n",
      "baseg.xconv6.mask_conv2d.weight torch.Size([96, 96, 1, 1])\n",
      "baseg.xconv6.mask_conv2d.bias torch.Size([96])\n",
      "baseg.xconv7_atrous.weight torch.Size([96, 96, 3, 3])\n",
      "baseg.xconv7_atrous.bias torch.Size([96])\n",
      "baseg.xconv7_atrous.mask_conv2d.weight torch.Size([96, 96, 1, 1])\n",
      "baseg.xconv7_atrous.mask_conv2d.bias torch.Size([96])\n",
      "baseg.xconv8_atrous.weight torch.Size([96, 96, 3, 3])\n",
      "baseg.xconv8_atrous.bias torch.Size([96])\n",
      "baseg.xconv8_atrous.mask_conv2d.weight torch.Size([96, 96, 1, 1])\n",
      "baseg.xconv8_atrous.mask_conv2d.bias torch.Size([96])\n",
      "baseg.xconv9_atrous.weight torch.Size([96, 96, 3, 3])\n",
      "baseg.xconv9_atrous.bias torch.Size([96])\n",
      "baseg.xconv9_atrous.mask_conv2d.weight torch.Size([96, 96, 1, 1])\n",
      "baseg.xconv9_atrous.mask_conv2d.bias torch.Size([96])\n",
      "baseg.xconv10_atrous.weight torch.Size([96, 96, 3, 3])\n",
      "baseg.xconv10_atrous.bias torch.Size([96])\n",
      "baseg.xconv10_atrous.mask_conv2d.weight torch.Size([96, 96, 1, 1])\n",
      "baseg.xconv10_atrous.mask_conv2d.bias torch.Size([96])\n",
      "baseg.pmconv1.weight torch.Size([24, 3, 5, 5])\n",
      "baseg.pmconv1.bias   torch.Size([24])\n",
      "baseg.pmconv1.mask_conv2d.weight torch.Size([24, 3, 1, 1])\n",
      "baseg.pmconv1.mask_conv2d.bias torch.Size([24])\n",
      "baseg.pmconv2_downsample.weight torch.Size([24, 24, 3, 3])\n",
      "baseg.pmconv2_downsample.bias torch.Size([24])\n",
      "baseg.pmconv2_downsample.mask_conv2d.weight torch.Size([24, 24, 1, 1])\n",
      "baseg.pmconv2_downsample.mask_conv2d.bias torch.Size([24])\n",
      "baseg.pmconv3.weight torch.Size([48, 24, 3, 3])\n",
      "baseg.pmconv3.bias   torch.Size([48])\n",
      "baseg.pmconv3.mask_conv2d.weight torch.Size([48, 24, 1, 1])\n",
      "baseg.pmconv3.mask_conv2d.bias torch.Size([48])\n",
      "baseg.pmconv4_downsample.weight torch.Size([96, 48, 3, 3])\n",
      "baseg.pmconv4_downsample.bias torch.Size([96])\n",
      "baseg.pmconv4_downsample.mask_conv2d.weight torch.Size([96, 48, 1, 1])\n",
      "baseg.pmconv4_downsample.mask_conv2d.bias torch.Size([96])\n",
      "baseg.pmconv5.weight torch.Size([96, 96, 3, 3])\n",
      "baseg.pmconv5.bias   torch.Size([96])\n",
      "baseg.pmconv5.mask_conv2d.weight torch.Size([96, 96, 1, 1])\n",
      "baseg.pmconv5.mask_conv2d.bias torch.Size([96])\n",
      "baseg.pmconv6.weight torch.Size([96, 96, 3, 3])\n",
      "baseg.pmconv6.bias   torch.Size([96])\n",
      "baseg.pmconv6.mask_conv2d.weight torch.Size([96, 96, 1, 1])\n",
      "baseg.pmconv6.mask_conv2d.bias torch.Size([96])\n",
      "baseg.pmconv9.weight torch.Size([96, 96, 3, 3])\n",
      "baseg.pmconv9.bias   torch.Size([96])\n",
      "baseg.pmconv9.mask_conv2d.weight torch.Size([96, 96, 1, 1])\n",
      "baseg.pmconv9.mask_conv2d.bias torch.Size([96])\n",
      "baseg.pmconv10.weight torch.Size([96, 96, 3, 3])\n",
      "baseg.pmconv10.bias  torch.Size([96])\n",
      "baseg.pmconv10.mask_conv2d.weight torch.Size([96, 96, 1, 1])\n",
      "baseg.pmconv10.mask_conv2d.bias torch.Size([96])\n",
      "baseg.allconv11.weight torch.Size([96, 192, 3, 3])\n",
      "baseg.allconv11.bias torch.Size([96])\n",
      "baseg.allconv11.mask_conv2d.weight torch.Size([96, 192, 1, 1])\n",
      "baseg.allconv11.mask_conv2d.bias torch.Size([96])\n",
      "baseg.allconv12.weight torch.Size([96, 96, 3, 3])\n",
      "baseg.allconv12.bias torch.Size([96])\n",
      "baseg.allconv12.mask_conv2d.weight torch.Size([96, 96, 1, 1])\n",
      "baseg.allconv12.mask_conv2d.bias torch.Size([96])\n",
      "baseg.allconv13_upsample_conv.weight torch.Size([192, 96, 3, 3])\n",
      "baseg.allconv13_upsample_conv.bias torch.Size([192])\n",
      "baseg.allconv13_upsample_conv.mask_conv2d.weight torch.Size([192, 96, 1, 1])\n",
      "baseg.allconv13_upsample_conv.mask_conv2d.bias torch.Size([192])\n",
      "baseg.allconv14.weight torch.Size([48, 48, 3, 3])\n",
      "baseg.allconv14.bias torch.Size([48])\n",
      "baseg.allconv14.mask_conv2d.weight torch.Size([48, 48, 1, 1])\n",
      "baseg.allconv14.mask_conv2d.bias torch.Size([48])\n",
      "baseg.allconv15_upsample_conv.weight torch.Size([96, 48, 3, 3])\n",
      "baseg.allconv15_upsample_conv.bias torch.Size([96])\n",
      "baseg.allconv15_upsample_conv.mask_conv2d.weight torch.Size([96, 48, 1, 1])\n",
      "baseg.allconv15_upsample_conv.mask_conv2d.bias torch.Size([96])\n",
      "baseg.allconv16.weight torch.Size([12, 24, 3, 3])\n",
      "baseg.allconv16.bias torch.Size([12])\n",
      "baseg.allconv16.mask_conv2d.weight torch.Size([12, 24, 1, 1])\n",
      "baseg.allconv16.mask_conv2d.bias torch.Size([12])\n",
      "baseg.allconv17.weight torch.Size([3, 12, 3, 3])\n",
      "baseg.allconv17.bias torch.Size([3])\n",
      "sconv1.weight        torch.Size([96, 96, 5, 5])\n",
      "sconv1.bias          torch.Size([96])\n",
      "sconv1.mask_conv2d.weight torch.Size([96, 96, 1, 1])\n",
      "sconv1.mask_conv2d.bias torch.Size([96])\n",
      "sconv2.weight        torch.Size([96, 96, 3, 3])\n",
      "sconv2.bias          torch.Size([96])\n",
      "sconv2.mask_conv2d.weight torch.Size([96, 96, 1, 1])\n",
      "sconv2.mask_conv2d.bias torch.Size([96])\n",
      "bconv1.weight        torch.Size([24, 3, 5, 5])\n",
      "bconv1.bias          torch.Size([24])\n",
      "bconv1.mask_conv2d.weight torch.Size([24, 3, 1, 1])\n",
      "bconv1.mask_conv2d.bias torch.Size([24])\n",
      "bconv2_downsample.weight torch.Size([48, 24, 3, 3])\n",
      "bconv2_downsample.bias torch.Size([48])\n",
      "bconv2_downsample.mask_conv2d.weight torch.Size([48, 24, 1, 1])\n",
      "bconv2_downsample.mask_conv2d.bias torch.Size([48])\n",
      "bconv3.weight        torch.Size([48, 48, 3, 3])\n",
      "bconv3.bias          torch.Size([48])\n",
      "bconv3.mask_conv2d.weight torch.Size([48, 48, 1, 1])\n",
      "bconv3.mask_conv2d.bias torch.Size([48])\n",
      "bconv4_downsample.weight torch.Size([96, 48, 3, 3])\n",
      "bconv4_downsample.bias torch.Size([96])\n",
      "bconv4_downsample.mask_conv2d.weight torch.Size([96, 48, 1, 1])\n",
      "bconv4_downsample.mask_conv2d.bias torch.Size([96])\n",
      "conv13_upsample_conv.weight torch.Size([192, 96, 3, 3])\n",
      "conv13_upsample_conv.bias torch.Size([192])\n",
      "conv13_upsample_conv.mask_conv2d.weight torch.Size([192, 96, 1, 1])\n",
      "conv13_upsample_conv.mask_conv2d.bias torch.Size([192])\n",
      "conv14.weight        torch.Size([48, 96, 3, 3])\n",
      "conv14.bias          torch.Size([48])\n",
      "conv14.mask_conv2d.weight torch.Size([48, 96, 1, 1])\n",
      "conv14.mask_conv2d.bias torch.Size([48])\n",
      "conv15_upsample_conv.weight torch.Size([96, 48, 3, 3])\n",
      "conv15_upsample_conv.bias torch.Size([96])\n",
      "conv15_upsample_conv.mask_conv2d.weight torch.Size([96, 48, 1, 1])\n",
      "conv15_upsample_conv.mask_conv2d.bias torch.Size([96])\n",
      "conv16.weight        torch.Size([24, 48, 3, 3])\n",
      "conv16.bias          torch.Size([24])\n",
      "conv16.mask_conv2d.weight torch.Size([24, 48, 1, 1])\n",
      "conv16.mask_conv2d.bias torch.Size([24])\n",
      "conv16_2.weight      torch.Size([24, 24, 3, 3])\n",
      "conv16_2.bias        torch.Size([24])\n",
      "conv16_2.mask_conv2d.weight torch.Size([24, 24, 1, 1])\n",
      "conv16_2.mask_conv2d.bias torch.Size([24])\n",
      "conv17.weight        torch.Size([3, 24, 3, 3])\n",
      "conv17.bias          torch.Size([3])\n"
     ]
    }
   ],
   "source": [
    "count1 =0 \n",
    "for k,v in model[\"generator_full\"].items():\n",
    "   \n",
    "    print(\"{:20s} {}\".format(k, v.shape))\n",
    "    count1 += 1"
   ]
  },
  {
   "cell_type": "code",
   "execution_count": null,
   "metadata": {
    "colab": {
     "base_uri": "https://localhost:8080/"
    },
    "id": "G4tVxZ-FX8Y5",
    "outputId": "2ab94c96-9bc8-40cc-c207-43831376acb6"
   },
   "outputs": [
    {
     "data": {
      "text/plain": [
       "210"
      ]
     },
     "execution_count": 47,
     "metadata": {},
     "output_type": "execute_result"
    }
   ],
   "source": [
    "count1"
   ]
  },
  {
   "cell_type": "code",
   "execution_count": null,
   "metadata": {
    "id": "gK0Dm0m_5bH2"
   },
   "outputs": [],
   "source": [
    "count1 =0  \n",
    "for layer in contextual.layers:\n",
    "  if layer.get_weights():\n",
    "    bias = model[\"generator_full\"][str(layer.name)+\".bias\"].detach().numpy()\n",
    "    weight = model[\"generator_full\"][str(layer.name)+\".weight\"].detach().numpy()\n",
    "#             bias1 = model[\"generator_base\"][str(layer.layer.layer.name)+\".bias\"].detach().numpy()\n",
    "    # print(str(layer.name))\n",
    "    \n",
    "    weight = weight.transpose((2, 3, 1, 0))\n",
    "    layer.set_weights([weight,bias])\n",
    "    count1 += 1 "
   ]
  },
  {
   "cell_type": "code",
   "execution_count": null,
   "metadata": {
    "colab": {
     "base_uri": "https://localhost:8080/"
    },
    "id": "mOBBLuSetfCT",
    "outputId": "1633558c-f3f3-4ab8-c7c6-38d03a67683c"
   },
   "outputs": [
    {
     "data": {
      "text/plain": [
       "4"
      ]
     },
     "execution_count": 49,
     "metadata": {},
     "output_type": "execute_result"
    }
   ],
   "source": [
    "count1"
   ]
  },
  {
   "cell_type": "code",
   "execution_count": null,
   "metadata": {
    "id": "7YD2xoKB6Acs"
   },
   "outputs": [],
   "source": [
    "contextual.input[0].set_shape([1, 64, 64, 96])\n",
    "contextual.input[1].set_shape([1, 256, 256, 1])\n",
    "contextual.input[2].set_shape([1,1])\n",
    "contextual.input[3].set_shape([1,1])"
   ]
  },
  {
   "cell_type": "code",
   "execution_count": null,
   "metadata": {
    "colab": {
     "base_uri": "https://localhost:8080/"
    },
    "id": "g4YEW_QD6R8s",
    "outputId": "65dbe1c4-e576-47cf-b769-5cb194806214"
   },
   "outputs": [
    {
     "name": "stdout",
     "output_type": "stream",
     "text": [
      "WARNING:tensorflow:Compiled the loaded model, but the compiled metrics have yet to be built. `model.compile_metrics` will be empty until you train or evaluate the model.\n"
     ]
    }
   ],
   "source": [
    "contextual.save(\"contextual_update1.h5\")"
   ]
  },
  {
   "cell_type": "code",
   "execution_count": null,
   "metadata": {
    "colab": {
     "base_uri": "https://localhost:8080/"
    },
    "id": "4VyUoNut6hyX",
    "outputId": "1b18b3c5-ec50-4a97-92a2-db7e98d510bb"
   },
   "outputs": [
    {
     "name": "stdout",
     "output_type": "stream",
     "text": [
      "WARNING:tensorflow:No training configuration found in the save file, so the model was *not* compiled. Compile it manually.\n"
     ]
    },
    {
     "name": "stderr",
     "output_type": "stream",
     "text": [
      "WARNING:tensorflow:No training configuration found in the save file, so the model was *not* compiled. Compile it manually.\n"
     ]
    }
   ],
   "source": [
    "import tensorflow as tf\n",
    "contextual = tf.keras.models.load_model('contextual_update1.h5')"
   ]
  },
  {
   "cell_type": "code",
   "execution_count": null,
   "metadata": {
    "id": "9YuWurCS6si8"
   },
   "outputs": [],
   "source": [
    "converter = tf.lite.TFLiteConverter.from_keras_model(contextual)\n",
    "converter.optimizations = [tf.lite.Optimize.DEFAULT]\n",
    "converter.target_spec.supported_types = [tf.float16]\n",
    "converter.target_spec.supported_ops = [tf.lite.OpsSet.TFLITE_BUILTINS, tf.lite.OpsSet.SELECT_TF_OPS]\n",
    "converter.allow_custom_ops = True\n",
    "converter.experimental_new_converter = True"
   ]
  },
  {
   "cell_type": "code",
   "execution_count": null,
   "metadata": {
    "id": "1hIAQhPi7NnV"
   },
   "outputs": [],
   "source": [
    "!pip install tf-nightly"
   ]
  },
  {
   "cell_type": "code",
   "execution_count": null,
   "metadata": {
    "colab": {
     "base_uri": "https://localhost:8080/"
    },
    "id": "sY6n0HsV6_LV",
    "outputId": "d0be9c5f-0200-4a26-b3ce-9e2c2cb1114c"
   },
   "outputs": [
    {
     "name": "stdout",
     "output_type": "stream",
     "text": [
      "WARNING:tensorflow:Compiled the loaded model, but the compiled metrics have yet to be built. `model.compile_metrics` will be empty until you train or evaluate the model.\n"
     ]
    },
    {
     "name": "stderr",
     "output_type": "stream",
     "text": [
      "WARNING:tensorflow:Compiled the loaded model, but the compiled metrics have yet to be built. `model.compile_metrics` will be empty until you train or evaluate the model.\n"
     ]
    },
    {
     "name": "stdout",
     "output_type": "stream",
     "text": [
      "INFO:tensorflow:Assets written to: /tmp/tmpjcdfdlsz/assets\n"
     ]
    },
    {
     "name": "stderr",
     "output_type": "stream",
     "text": [
      "INFO:tensorflow:Assets written to: /tmp/tmpjcdfdlsz/assets\n"
     ]
    }
   ],
   "source": [
    "tflite_convert = converter.convert()"
   ]
  },
  {
   "cell_type": "code",
   "execution_count": null,
   "metadata": {
    "id": "lZui5uZV7Dxx"
   },
   "outputs": [],
   "source": [
    "with open('./contextual_update_1.tflite', 'wb') as f:\n",
    "  f.write(tflite_convert)"
   ]
  },
  {
   "cell_type": "code",
   "execution_count": null,
   "metadata": {
    "id": "ZwHlkEUZ8S9-"
   },
   "outputs": [],
   "source": [
    "tflite = tf.lite.Interpreter(model_path=\"./contextual_update_1.tflite\")"
   ]
  },
  {
   "cell_type": "code",
   "execution_count": null,
   "metadata": {
    "id": "NsktXzrD8bTn"
   },
   "outputs": [],
   "source": [
    "input_details = tflite.get_input_details()\n",
    "output_details = tflite.get_output_details()"
   ]
  },
  {
   "cell_type": "code",
   "execution_count": null,
   "metadata": {
    "id": "dVrAmB7X8ej3"
   },
   "outputs": [],
   "source": [
    "tflite.resize_tensor_input(\n",
    "    input_details[0]['index'], (1, 128, 128, 96))\n",
    "tflite.resize_tensor_input(\n",
    "    input_details[1]['index'], (1, 512, 512, 3))"
   ]
  },
  {
   "cell_type": "code",
   "execution_count": null,
   "metadata": {
    "id": "GY8tx5O-8nkn"
   },
   "outputs": [],
   "source": [
    "tflite.allocate_tensors()"
   ]
  },
  {
   "cell_type": "markdown",
   "metadata": {
    "id": "v952QY1r4yEy"
   },
   "source": [
    "## End load weight"
   ]
  },
  {
   "cell_type": "markdown",
   "metadata": {
    "id": "4CsoyVf9IJZh"
   },
   "source": [
    "## Our inpaint model"
   ]
  },
  {
   "cell_type": "code",
   "execution_count": null,
   "metadata": {
    "id": "8oDiSlDnIP5G"
   },
   "outputs": [],
   "source": [
    "model_tf_new = InpaintGenerator_tf_new(shape =(256,256,3),new_shape =(256,256,1) )"
   ]
  },
  {
   "cell_type": "code",
   "execution_count": null,
   "metadata": {
    "id": "TpC8G7wVIbJM"
   },
   "outputs": [],
   "source": [
    "for layer in model_tf_new.layers:\n",
    "    if layer.get_weights():\n",
    "        print(layer.name)"
   ]
  },
  {
   "cell_type": "code",
   "execution_count": null,
   "metadata": {
    "id": "MUntmGKzIixk"
   },
   "outputs": [],
   "source": [
    "import torch\n",
    "# model =torch.load(\"/content/drive/MyDrive/generative_inpaintingv2/contextual_loss_mask_wise_fix_pixel_shuffle/checkpoint/checkpoint_change_dis/InpaintGenerator_gen_base.pth\",map_location=torch.device('cpu'))\n",
    "# model =torch.load(\"/content/drive/MyDrive/generative_inpaintingv2/contextual_loss_fix_mask_wise_and_pixel_shuffle/checkpoint/InpaintGenerator_gen_base.pth\",map_location=torch.device('cpu'))\n",
    "# model =torch.load(\"/content/drive/MyDrive/generative_inpaintingv2/contextual_loss_fix_mask_wise_and_pixel_shuffle/checkpoint/checkpoint_change_dis/InpaintGenerator_gen_full.pth\",map_location=torch.device('cpu'))\n",
    "model =torch.load(\"/content/drive/MyDrive/generative_inpaintingv2/contextual_loss_fix_mask_wise_and_pixel_shuffle/checkpoint/checkpoint_change_dis/backup_after_change_batch/InpaintGenerator_gen_full.pth\",map_location=torch.device('cpu'))\n"
   ]
  },
  {
   "cell_type": "code",
   "execution_count": null,
   "metadata": {
    "colab": {
     "base_uri": "https://localhost:8080/"
    },
    "id": "rU9EKbTIKD7x",
    "outputId": "efae0d7a-4e2b-4b4e-a523-95aacb058af9"
   },
   "outputs": [
    {
     "name": "stdout",
     "output_type": "stream",
     "text": [
      "baseg.conv1.weight   torch.Size([24, 5, 5, 5])\n",
      "baseg.conv1.bias     torch.Size([24])\n",
      "baseg.conv1.mask_conv2d.weight torch.Size([1, 5, 5, 5])\n",
      "baseg.conv1.mask_conv2d.bias torch.Size([1])\n",
      "baseg.conv2_downsample.weight torch.Size([48, 24, 3, 3])\n",
      "baseg.conv2_downsample.bias torch.Size([48])\n",
      "baseg.conv2_downsample.mask_conv2d.weight torch.Size([1, 24, 3, 3])\n",
      "baseg.conv2_downsample.mask_conv2d.bias torch.Size([1])\n",
      "baseg.conv3.weight   torch.Size([48, 48, 3, 3])\n",
      "baseg.conv3.bias     torch.Size([48])\n",
      "baseg.conv3.mask_conv2d.weight torch.Size([1, 48, 3, 3])\n",
      "baseg.conv3.mask_conv2d.bias torch.Size([1])\n",
      "baseg.conv4_downsample.weight torch.Size([96, 48, 3, 3])\n",
      "baseg.conv4_downsample.bias torch.Size([96])\n",
      "baseg.conv4_downsample.mask_conv2d.weight torch.Size([1, 48, 3, 3])\n",
      "baseg.conv4_downsample.mask_conv2d.bias torch.Size([1])\n",
      "baseg.conv5.weight   torch.Size([96, 96, 3, 3])\n",
      "baseg.conv5.bias     torch.Size([96])\n",
      "baseg.conv5.mask_conv2d.weight torch.Size([1, 96, 3, 3])\n",
      "baseg.conv5.mask_conv2d.bias torch.Size([1])\n",
      "baseg.conv6.weight   torch.Size([96, 96, 3, 3])\n",
      "baseg.conv6.bias     torch.Size([96])\n",
      "baseg.conv6.mask_conv2d.weight torch.Size([1, 96, 3, 3])\n",
      "baseg.conv6.mask_conv2d.bias torch.Size([1])\n",
      "baseg.conv7_atrous.weight torch.Size([96, 96, 3, 3])\n",
      "baseg.conv7_atrous.bias torch.Size([96])\n",
      "baseg.conv7_atrous.mask_conv2d.weight torch.Size([1, 96, 3, 3])\n",
      "baseg.conv7_atrous.mask_conv2d.bias torch.Size([1])\n",
      "baseg.conv8_atrous.weight torch.Size([96, 96, 3, 3])\n",
      "baseg.conv8_atrous.bias torch.Size([96])\n",
      "baseg.conv8_atrous.mask_conv2d.weight torch.Size([1, 96, 3, 3])\n",
      "baseg.conv8_atrous.mask_conv2d.bias torch.Size([1])\n",
      "baseg.conv9_atrous.weight torch.Size([96, 96, 3, 3])\n",
      "baseg.conv9_atrous.bias torch.Size([96])\n",
      "baseg.conv9_atrous.mask_conv2d.weight torch.Size([1, 96, 3, 3])\n",
      "baseg.conv9_atrous.mask_conv2d.bias torch.Size([1])\n",
      "baseg.conv10_atrous.weight torch.Size([96, 96, 3, 3])\n",
      "baseg.conv10_atrous.bias torch.Size([96])\n",
      "baseg.conv10_atrous.mask_conv2d.weight torch.Size([1, 96, 3, 3])\n",
      "baseg.conv10_atrous.mask_conv2d.bias torch.Size([1])\n",
      "baseg.conv11.weight  torch.Size([96, 96, 3, 3])\n",
      "baseg.conv11.bias    torch.Size([96])\n",
      "baseg.conv11.mask_conv2d.weight torch.Size([1, 96, 3, 3])\n",
      "baseg.conv11.mask_conv2d.bias torch.Size([1])\n",
      "baseg.conv12.weight  torch.Size([96, 96, 3, 3])\n",
      "baseg.conv12.bias    torch.Size([96])\n",
      "baseg.conv12.mask_conv2d.weight torch.Size([1, 96, 3, 3])\n",
      "baseg.conv12.mask_conv2d.bias torch.Size([1])\n",
      "baseg.conv13_upsample_conv.weight torch.Size([192, 96, 3, 3])\n",
      "baseg.conv13_upsample_conv.bias torch.Size([192])\n",
      "baseg.conv13_upsample_conv.mask_conv2d.weight torch.Size([1, 96, 3, 3])\n",
      "baseg.conv13_upsample_conv.mask_conv2d.bias torch.Size([1])\n",
      "baseg.conv14.weight  torch.Size([48, 48, 3, 3])\n",
      "baseg.conv14.bias    torch.Size([48])\n",
      "baseg.conv14.mask_conv2d.weight torch.Size([1, 48, 3, 3])\n",
      "baseg.conv14.mask_conv2d.bias torch.Size([1])\n",
      "baseg.conv15_upsample_conv.weight torch.Size([96, 48, 3, 3])\n",
      "baseg.conv15_upsample_conv.bias torch.Size([96])\n",
      "baseg.conv15_upsample_conv.mask_conv2d.weight torch.Size([1, 48, 3, 3])\n",
      "baseg.conv15_upsample_conv.mask_conv2d.bias torch.Size([1])\n",
      "baseg.conv16.weight  torch.Size([12, 24, 3, 3])\n",
      "baseg.conv16.bias    torch.Size([12])\n",
      "baseg.conv16.mask_conv2d.weight torch.Size([1, 24, 3, 3])\n",
      "baseg.conv16.mask_conv2d.bias torch.Size([1])\n",
      "baseg.conv17.weight  torch.Size([3, 12, 3, 3])\n",
      "baseg.conv17.bias    torch.Size([3])\n",
      "baseg.xconv1.weight  torch.Size([24, 3, 5, 5])\n",
      "baseg.xconv1.bias    torch.Size([24])\n",
      "baseg.xconv1.mask_conv2d.weight torch.Size([24, 3, 1, 1])\n",
      "baseg.xconv1.mask_conv2d.bias torch.Size([24])\n",
      "baseg.xconv2_downsample.weight torch.Size([24, 24, 3, 3])\n",
      "baseg.xconv2_downsample.bias torch.Size([24])\n",
      "baseg.xconv2_downsample.mask_conv2d.weight torch.Size([24, 24, 1, 1])\n",
      "baseg.xconv2_downsample.mask_conv2d.bias torch.Size([24])\n",
      "baseg.xconv3.weight  torch.Size([48, 24, 3, 3])\n",
      "baseg.xconv3.bias    torch.Size([48])\n",
      "baseg.xconv3.mask_conv2d.weight torch.Size([48, 24, 1, 1])\n",
      "baseg.xconv3.mask_conv2d.bias torch.Size([48])\n",
      "baseg.xconv4_downsample.weight torch.Size([48, 48, 3, 3])\n",
      "baseg.xconv4_downsample.bias torch.Size([48])\n",
      "baseg.xconv4_downsample.mask_conv2d.weight torch.Size([48, 48, 1, 1])\n",
      "baseg.xconv4_downsample.mask_conv2d.bias torch.Size([48])\n",
      "baseg.xconv5.weight  torch.Size([96, 48, 3, 3])\n",
      "baseg.xconv5.bias    torch.Size([96])\n",
      "baseg.xconv5.mask_conv2d.weight torch.Size([96, 48, 1, 1])\n",
      "baseg.xconv5.mask_conv2d.bias torch.Size([96])\n",
      "baseg.xconv6.weight  torch.Size([96, 96, 3, 3])\n",
      "baseg.xconv6.bias    torch.Size([96])\n",
      "baseg.xconv6.mask_conv2d.weight torch.Size([96, 96, 1, 1])\n",
      "baseg.xconv6.mask_conv2d.bias torch.Size([96])\n",
      "baseg.xconv7_atrous.weight torch.Size([96, 96, 3, 3])\n",
      "baseg.xconv7_atrous.bias torch.Size([96])\n",
      "baseg.xconv7_atrous.mask_conv2d.weight torch.Size([96, 96, 1, 1])\n",
      "baseg.xconv7_atrous.mask_conv2d.bias torch.Size([96])\n",
      "baseg.xconv8_atrous.weight torch.Size([96, 96, 3, 3])\n",
      "baseg.xconv8_atrous.bias torch.Size([96])\n",
      "baseg.xconv8_atrous.mask_conv2d.weight torch.Size([96, 96, 1, 1])\n",
      "baseg.xconv8_atrous.mask_conv2d.bias torch.Size([96])\n",
      "baseg.xconv9_atrous.weight torch.Size([96, 96, 3, 3])\n",
      "baseg.xconv9_atrous.bias torch.Size([96])\n",
      "baseg.xconv9_atrous.mask_conv2d.weight torch.Size([96, 96, 1, 1])\n",
      "baseg.xconv9_atrous.mask_conv2d.bias torch.Size([96])\n",
      "baseg.xconv10_atrous.weight torch.Size([96, 96, 3, 3])\n",
      "baseg.xconv10_atrous.bias torch.Size([96])\n",
      "baseg.xconv10_atrous.mask_conv2d.weight torch.Size([96, 96, 1, 1])\n",
      "baseg.xconv10_atrous.mask_conv2d.bias torch.Size([96])\n",
      "baseg.pmconv1.weight torch.Size([24, 3, 5, 5])\n",
      "baseg.pmconv1.bias   torch.Size([24])\n",
      "baseg.pmconv1.mask_conv2d.weight torch.Size([24, 3, 1, 1])\n",
      "baseg.pmconv1.mask_conv2d.bias torch.Size([24])\n",
      "baseg.pmconv2_downsample.weight torch.Size([24, 24, 3, 3])\n",
      "baseg.pmconv2_downsample.bias torch.Size([24])\n",
      "baseg.pmconv2_downsample.mask_conv2d.weight torch.Size([24, 24, 1, 1])\n",
      "baseg.pmconv2_downsample.mask_conv2d.bias torch.Size([24])\n",
      "baseg.pmconv3.weight torch.Size([48, 24, 3, 3])\n",
      "baseg.pmconv3.bias   torch.Size([48])\n",
      "baseg.pmconv3.mask_conv2d.weight torch.Size([48, 24, 1, 1])\n",
      "baseg.pmconv3.mask_conv2d.bias torch.Size([48])\n",
      "baseg.pmconv4_downsample.weight torch.Size([96, 48, 3, 3])\n",
      "baseg.pmconv4_downsample.bias torch.Size([96])\n",
      "baseg.pmconv4_downsample.mask_conv2d.weight torch.Size([96, 48, 1, 1])\n",
      "baseg.pmconv4_downsample.mask_conv2d.bias torch.Size([96])\n",
      "baseg.pmconv5.weight torch.Size([96, 96, 3, 3])\n",
      "baseg.pmconv5.bias   torch.Size([96])\n",
      "baseg.pmconv5.mask_conv2d.weight torch.Size([96, 96, 1, 1])\n",
      "baseg.pmconv5.mask_conv2d.bias torch.Size([96])\n",
      "baseg.pmconv6.weight torch.Size([96, 96, 3, 3])\n",
      "baseg.pmconv6.bias   torch.Size([96])\n",
      "baseg.pmconv6.mask_conv2d.weight torch.Size([96, 96, 1, 1])\n",
      "baseg.pmconv6.mask_conv2d.bias torch.Size([96])\n",
      "baseg.pmconv9.weight torch.Size([96, 96, 3, 3])\n",
      "baseg.pmconv9.bias   torch.Size([96])\n",
      "baseg.pmconv9.mask_conv2d.weight torch.Size([96, 96, 1, 1])\n",
      "baseg.pmconv9.mask_conv2d.bias torch.Size([96])\n",
      "baseg.pmconv10.weight torch.Size([96, 96, 3, 3])\n",
      "baseg.pmconv10.bias  torch.Size([96])\n",
      "baseg.pmconv10.mask_conv2d.weight torch.Size([96, 96, 1, 1])\n",
      "baseg.pmconv10.mask_conv2d.bias torch.Size([96])\n",
      "baseg.allconv11.weight torch.Size([96, 192, 3, 3])\n",
      "baseg.allconv11.bias torch.Size([96])\n",
      "baseg.allconv11.mask_conv2d.weight torch.Size([96, 192, 1, 1])\n",
      "baseg.allconv11.mask_conv2d.bias torch.Size([96])\n",
      "baseg.allconv12.weight torch.Size([96, 96, 3, 3])\n",
      "baseg.allconv12.bias torch.Size([96])\n",
      "baseg.allconv12.mask_conv2d.weight torch.Size([96, 96, 1, 1])\n",
      "baseg.allconv12.mask_conv2d.bias torch.Size([96])\n",
      "baseg.allconv13_upsample_conv.weight torch.Size([192, 96, 3, 3])\n",
      "baseg.allconv13_upsample_conv.bias torch.Size([192])\n",
      "baseg.allconv13_upsample_conv.mask_conv2d.weight torch.Size([192, 96, 1, 1])\n",
      "baseg.allconv13_upsample_conv.mask_conv2d.bias torch.Size([192])\n",
      "baseg.allconv14.weight torch.Size([48, 48, 3, 3])\n",
      "baseg.allconv14.bias torch.Size([48])\n",
      "baseg.allconv14.mask_conv2d.weight torch.Size([48, 48, 1, 1])\n",
      "baseg.allconv14.mask_conv2d.bias torch.Size([48])\n",
      "baseg.allconv15_upsample_conv.weight torch.Size([96, 48, 3, 3])\n",
      "baseg.allconv15_upsample_conv.bias torch.Size([96])\n",
      "baseg.allconv15_upsample_conv.mask_conv2d.weight torch.Size([96, 48, 1, 1])\n",
      "baseg.allconv15_upsample_conv.mask_conv2d.bias torch.Size([96])\n",
      "baseg.allconv16.weight torch.Size([12, 24, 3, 3])\n",
      "baseg.allconv16.bias torch.Size([12])\n",
      "baseg.allconv16.mask_conv2d.weight torch.Size([12, 24, 1, 1])\n",
      "baseg.allconv16.mask_conv2d.bias torch.Size([12])\n",
      "baseg.allconv17.weight torch.Size([3, 12, 3, 3])\n",
      "baseg.allconv17.bias torch.Size([3])\n",
      "sconv1.weight        torch.Size([96, 96, 5, 5])\n",
      "sconv1.bias          torch.Size([96])\n",
      "sconv1.mask_conv2d.weight torch.Size([96, 96, 1, 1])\n",
      "sconv1.mask_conv2d.bias torch.Size([96])\n",
      "sconv2.weight        torch.Size([96, 96, 3, 3])\n",
      "sconv2.bias          torch.Size([96])\n",
      "sconv2.mask_conv2d.weight torch.Size([96, 96, 1, 1])\n",
      "sconv2.mask_conv2d.bias torch.Size([96])\n",
      "bconv1.weight        torch.Size([24, 3, 5, 5])\n",
      "bconv1.bias          torch.Size([24])\n",
      "bconv1.mask_conv2d.weight torch.Size([24, 3, 1, 1])\n",
      "bconv1.mask_conv2d.bias torch.Size([24])\n",
      "bconv2_downsample.weight torch.Size([48, 24, 3, 3])\n",
      "bconv2_downsample.bias torch.Size([48])\n",
      "bconv2_downsample.mask_conv2d.weight torch.Size([48, 24, 1, 1])\n",
      "bconv2_downsample.mask_conv2d.bias torch.Size([48])\n",
      "bconv3.weight        torch.Size([48, 48, 3, 3])\n",
      "bconv3.bias          torch.Size([48])\n",
      "bconv3.mask_conv2d.weight torch.Size([48, 48, 1, 1])\n",
      "bconv3.mask_conv2d.bias torch.Size([48])\n",
      "bconv4_downsample.weight torch.Size([96, 48, 3, 3])\n",
      "bconv4_downsample.bias torch.Size([96])\n",
      "bconv4_downsample.mask_conv2d.weight torch.Size([96, 48, 1, 1])\n",
      "bconv4_downsample.mask_conv2d.bias torch.Size([96])\n",
      "conv13_upsample_conv.weight torch.Size([192, 96, 3, 3])\n",
      "conv13_upsample_conv.bias torch.Size([192])\n",
      "conv13_upsample_conv.mask_conv2d.weight torch.Size([192, 96, 1, 1])\n",
      "conv13_upsample_conv.mask_conv2d.bias torch.Size([192])\n",
      "conv14.weight        torch.Size([48, 96, 3, 3])\n",
      "conv14.bias          torch.Size([48])\n",
      "conv14.mask_conv2d.weight torch.Size([48, 96, 1, 1])\n",
      "conv14.mask_conv2d.bias torch.Size([48])\n",
      "conv15_upsample_conv.weight torch.Size([96, 48, 3, 3])\n",
      "conv15_upsample_conv.bias torch.Size([96])\n",
      "conv15_upsample_conv.mask_conv2d.weight torch.Size([96, 48, 1, 1])\n",
      "conv15_upsample_conv.mask_conv2d.bias torch.Size([96])\n",
      "conv16.weight        torch.Size([24, 48, 3, 3])\n",
      "conv16.bias          torch.Size([24])\n",
      "conv16.mask_conv2d.weight torch.Size([24, 48, 1, 1])\n",
      "conv16.mask_conv2d.bias torch.Size([24])\n",
      "conv16_2.weight      torch.Size([24, 24, 3, 3])\n",
      "conv16_2.bias        torch.Size([24])\n",
      "conv16_2.mask_conv2d.weight torch.Size([24, 24, 1, 1])\n",
      "conv16_2.mask_conv2d.bias torch.Size([24])\n",
      "conv17.weight        torch.Size([3, 24, 3, 3])\n",
      "conv17.bias          torch.Size([3])\n"
     ]
    }
   ],
   "source": [
    "count1 =0 \n",
    "for k,v in model[\"generator_full\"].items():\n",
    "   \n",
    "    print(\"{:20s} {}\".format(k, v.shape))\n",
    "    count1 += 1"
   ]
  },
  {
   "cell_type": "code",
   "execution_count": null,
   "metadata": {
    "colab": {
     "base_uri": "https://localhost:8080/"
    },
    "id": "CvPHP5WmKqay",
    "outputId": "1bdeba8f-8cc3-4503-f763-bfc3430be1c7"
   },
   "outputs": [
    {
     "data": {
      "text/plain": [
       "210"
      ]
     },
     "execution_count": 39,
     "metadata": {},
     "output_type": "execute_result"
    }
   ],
   "source": [
    "count1"
   ]
  },
  {
   "cell_type": "code",
   "execution_count": null,
   "metadata": {
    "id": "a7vFKYkNJMCG"
   },
   "outputs": [],
   "source": [
    "from utils_tf import gen_conv1,gen_deconv1,gen_conv2,gen_deconv2"
   ]
  },
  {
   "cell_type": "code",
   "execution_count": null,
   "metadata": {
    "id": "nQWuWl0XJQZX"
   },
   "outputs": [],
   "source": [
    "count = 0\n",
    "\n",
    "for layer in model_tf_new.layers:\n",
    "    if layer.get_weights():\n",
    "        weight = model[\"generator_full\"][\"baseg.\"+str(layer.name)+\".weight\"].numpy()\n",
    "        bias = model[\"generator_full\"][\"baseg.\"+str(layer.name)+\".bias\"].numpy()\n",
    "        weight = weight.transpose((2, 3, 1, 0))\n",
    "\n",
    "        layer.set_weights([weight,bias])\n",
    "        count += 1"
   ]
  },
  {
   "cell_type": "code",
   "execution_count": null,
   "metadata": {
    "colab": {
     "base_uri": "https://localhost:8080/"
    },
    "id": "CvCYJfdIx8Hn",
    "outputId": "6994c8e1-88c9-4953-e04d-11f5df824a4f"
   },
   "outputs": [
    {
     "data": {
      "text/plain": [
       "82"
      ]
     },
     "execution_count": 42,
     "metadata": {},
     "output_type": "execute_result"
    }
   ],
   "source": [
    "count"
   ]
  },
  {
   "cell_type": "code",
   "execution_count": null,
   "metadata": {
    "id": "145-RJP0Kmf-"
   },
   "outputs": [],
   "source": [
    "model_tf_new.input[0].set_shape([1, 256, 256, 3])\n",
    "model_tf_new.input[1].set_shape([1, 256, 256, 1])\n",
    "model_tf_new.input[2].set_shape([1, 256, 256, 1])"
   ]
  },
  {
   "cell_type": "code",
   "execution_count": null,
   "metadata": {
    "colab": {
     "base_uri": "https://localhost:8080/"
    },
    "id": "FNLgt4_FLB32",
    "outputId": "57e97105-4d59-48b7-dae9-0bc577937754"
   },
   "outputs": [
    {
     "name": "stdout",
     "output_type": "stream",
     "text": [
      "WARNING:tensorflow:Compiled the loaded model, but the compiled metrics have yet to be built. `model.compile_metrics` will be empty until you train or evaluate the model.\n"
     ]
    },
    {
     "name": "stderr",
     "output_type": "stream",
     "text": [
      "WARNING:tensorflow:Compiled the loaded model, but the compiled metrics have yet to be built. `model.compile_metrics` will be empty until you train or evaluate the model.\n"
     ]
    },
    {
     "name": "stdout",
     "output_type": "stream",
     "text": [
      "INFO:tensorflow:Assets written to: /tmp/tmpr7jljd2h/assets\n"
     ]
    },
    {
     "name": "stderr",
     "output_type": "stream",
     "text": [
      "INFO:tensorflow:Assets written to: /tmp/tmpr7jljd2h/assets\n"
     ]
    }
   ],
   "source": [
    "import tensorflow as tf\n",
    "converter = tf.lite.TFLiteConverter.from_keras_model(model_tf_new)\n",
    "converter.optimizations = [tf.lite.Optimize.DEFAULT]\n",
    "converter.target_spec.supported_types = [tf.float16]\n",
    "converter.target_spec.supported_ops = [tf.lite.OpsSet.TFLITE_BUILTINS, tf.lite.OpsSet.SELECT_TF_OPS]\n",
    "converter.allow_custom_ops = True\n",
    "converter.experimental_new_converter = True\n",
    "tflite_model = converter.convert()"
   ]
  },
  {
   "cell_type": "code",
   "execution_count": null,
   "metadata": {
    "id": "i45gsozdLTRp"
   },
   "outputs": [],
   "source": [
    "with open('./cr_lwgcoc_latest1.tflite', 'wb') as f:\n",
    "  f.write(tflite_model)"
   ]
  },
  {
   "cell_type": "markdown",
   "metadata": {
    "id": "aMgJUnk8IRer"
   },
   "source": [
    "## End inpaint new"
   ]
  },
  {
   "cell_type": "markdown",
   "metadata": {
    "id": "C8CdyHtNdv77"
   },
   "source": [
    "## Pretrained high resolution"
   ]
  },
  {
   "cell_type": "code",
   "execution_count": null,
   "metadata": {
    "id": "E0g9-Uu8ySWY"
   },
   "outputs": [],
   "source": [
    "model_tf= InpaintGenerator_tf(shape =(512,512,3),new_shape =(512,512,1) )"
   ]
  },
  {
   "cell_type": "code",
   "execution_count": null,
   "metadata": {
    "colab": {
     "base_uri": "https://localhost:8080/"
    },
    "id": "EdyZMlvZySWZ",
    "outputId": "d9d95ad8-f8ac-4c40-a810-dbcd2f3f41f7"
   },
   "outputs": [
    {
     "name": "stdout",
     "output_type": "stream",
     "text": [
      "Model: \"inpaintgenerator\"\n",
      "__________________________________________________________________________________________________\n",
      "Layer (type)                    Output Shape         Param #     Connected to                     \n",
      "==================================================================================================\n",
      "input_1 (InputLayer)            [(None, 512, 512, 3) 0                                            \n",
      "__________________________________________________________________________________________________\n",
      "tf_op_layer_RealDiv (TensorFlow [(None, 512, 512, 3) 0           input_1[0][0]                    \n",
      "__________________________________________________________________________________________________\n",
      "input_2 (InputLayer)            [(None, 512, 512, 1) 0                                            \n",
      "__________________________________________________________________________________________________\n",
      "tf_op_layer_Sub (TensorFlowOpLa [(None, 512, 512, 3) 0           tf_op_layer_RealDiv[0][0]        \n",
      "__________________________________________________________________________________________________\n",
      "tf_op_layer_Sub_1 (TensorFlowOp [(None, 512, 512, 1) 0           input_2[0][0]                    \n",
      "__________________________________________________________________________________________________\n",
      "input_3 (InputLayer)            [(None, 512, 512, 1) 0                                            \n",
      "__________________________________________________________________________________________________\n",
      "tf_op_layer_Mul (TensorFlowOpLa [(None, 512, 512, 3) 0           tf_op_layer_Sub[0][0]            \n",
      "                                                                 tf_op_layer_Sub_1[0][0]          \n",
      "__________________________________________________________________________________________________\n",
      "tf_op_layer_ResizeNearestNeighb [(None, 256, 256, 1) 0           input_3[0][0]                    \n",
      "__________________________________________________________________________________________________\n",
      "tf_op_layer_ResizeNearestNeighb [(None, 256, 256, 1) 0           input_2[0][0]                    \n",
      "__________________________________________________________________________________________________\n",
      "tf_op_layer_ResizeNearestNeighb [(None, 256, 256, 3) 0           tf_op_layer_Mul[0][0]            \n",
      "__________________________________________________________________________________________________\n",
      "tf_op_layer_Mul_1 (TensorFlowOp [(None, 256, 256, 1) 0           tf_op_layer_ResizeNearestNeighbor\n",
      "                                                                 tf_op_layer_ResizeNearestNeighbor\n",
      "__________________________________________________________________________________________________\n",
      "tf_op_layer_concat (TensorFlowO [(None, 256, 256, 5) 0           tf_op_layer_ResizeNearestNeighbor\n",
      "                                                                 tf_op_layer_ResizeNearestNeighbor\n",
      "                                                                 tf_op_layer_Mul_1[0][0]          \n",
      "__________________________________________________________________________________________________\n",
      "tf_op_layer_Pad (TensorFlowOpLa [(None, 260, 260, 5) 0           tf_op_layer_concat[0][0]         \n",
      "__________________________________________________________________________________________________\n",
      "conv1 (Conv2D)                  (None, 256, 256, 48) 6048        tf_op_layer_Pad[0][0]            \n",
      "__________________________________________________________________________________________________\n",
      "tf_op_layer_split (TensorFlowOp [(None, 256, 256, 24 0           conv1[0][0]                      \n",
      "__________________________________________________________________________________________________\n",
      "tf_op_layer_Elu (TensorFlowOpLa [(None, 256, 256, 24 0           tf_op_layer_split[0][0]          \n",
      "__________________________________________________________________________________________________\n",
      "tf_op_layer_Sigmoid (TensorFlow [(None, 256, 256, 24 0           tf_op_layer_split[0][1]          \n",
      "__________________________________________________________________________________________________\n",
      "tf_op_layer_Mul_2 (TensorFlowOp [(None, 256, 256, 24 0           tf_op_layer_Elu[0][0]            \n",
      "                                                                 tf_op_layer_Sigmoid[0][0]        \n",
      "__________________________________________________________________________________________________\n",
      "tf_op_layer_Pad_1 (TensorFlowOp [(None, 258, 258, 24 0           tf_op_layer_Mul_2[0][0]          \n",
      "__________________________________________________________________________________________________\n",
      "conv2_downsample (Conv2D)       (None, 128, 128, 96) 20832       tf_op_layer_Pad_1[0][0]          \n",
      "__________________________________________________________________________________________________\n",
      "tf_op_layer_split_1 (TensorFlow [(None, 128, 128, 48 0           conv2_downsample[0][0]           \n",
      "__________________________________________________________________________________________________\n",
      "tf_op_layer_Elu_1 (TensorFlowOp [(None, 128, 128, 48 0           tf_op_layer_split_1[0][0]        \n",
      "__________________________________________________________________________________________________\n",
      "tf_op_layer_Sigmoid_1 (TensorFl [(None, 128, 128, 48 0           tf_op_layer_split_1[0][1]        \n",
      "__________________________________________________________________________________________________\n",
      "tf_op_layer_Mul_3 (TensorFlowOp [(None, 128, 128, 48 0           tf_op_layer_Elu_1[0][0]          \n",
      "                                                                 tf_op_layer_Sigmoid_1[0][0]      \n",
      "__________________________________________________________________________________________________\n",
      "tf_op_layer_Pad_2 (TensorFlowOp [(None, 130, 130, 48 0           tf_op_layer_Mul_3[0][0]          \n",
      "__________________________________________________________________________________________________\n",
      "conv3 (Conv2D)                  (None, 128, 128, 96) 41568       tf_op_layer_Pad_2[0][0]          \n",
      "__________________________________________________________________________________________________\n",
      "tf_op_layer_split_2 (TensorFlow [(None, 128, 128, 48 0           conv3[0][0]                      \n",
      "__________________________________________________________________________________________________\n",
      "tf_op_layer_Elu_2 (TensorFlowOp [(None, 128, 128, 48 0           tf_op_layer_split_2[0][0]        \n",
      "__________________________________________________________________________________________________\n",
      "tf_op_layer_Sigmoid_2 (TensorFl [(None, 128, 128, 48 0           tf_op_layer_split_2[0][1]        \n",
      "__________________________________________________________________________________________________\n",
      "tf_op_layer_Mul_4 (TensorFlowOp [(None, 128, 128, 48 0           tf_op_layer_Elu_2[0][0]          \n",
      "                                                                 tf_op_layer_Sigmoid_2[0][0]      \n",
      "__________________________________________________________________________________________________\n",
      "tf_op_layer_Pad_3 (TensorFlowOp [(None, 130, 130, 48 0           tf_op_layer_Mul_4[0][0]          \n",
      "__________________________________________________________________________________________________\n",
      "conv4_downsample (Conv2D)       (None, 64, 64, 192)  83136       tf_op_layer_Pad_3[0][0]          \n",
      "__________________________________________________________________________________________________\n",
      "tf_op_layer_split_3 (TensorFlow [(None, 64, 64, 96), 0           conv4_downsample[0][0]           \n",
      "__________________________________________________________________________________________________\n",
      "tf_op_layer_Elu_3 (TensorFlowOp [(None, 64, 64, 96)] 0           tf_op_layer_split_3[0][0]        \n",
      "__________________________________________________________________________________________________\n",
      "tf_op_layer_Sigmoid_3 (TensorFl [(None, 64, 64, 96)] 0           tf_op_layer_split_3[0][1]        \n",
      "__________________________________________________________________________________________________\n",
      "tf_op_layer_Mul_5 (TensorFlowOp [(None, 64, 64, 96)] 0           tf_op_layer_Elu_3[0][0]          \n",
      "                                                                 tf_op_layer_Sigmoid_3[0][0]      \n",
      "__________________________________________________________________________________________________\n",
      "tf_op_layer_Pad_4 (TensorFlowOp [(None, 66, 66, 96)] 0           tf_op_layer_Mul_5[0][0]          \n",
      "__________________________________________________________________________________________________\n",
      "conv5 (Conv2D)                  (None, 64, 64, 192)  166080      tf_op_layer_Pad_4[0][0]          \n",
      "__________________________________________________________________________________________________\n",
      "tf_op_layer_split_4 (TensorFlow [(None, 64, 64, 96), 0           conv5[0][0]                      \n",
      "__________________________________________________________________________________________________\n",
      "tf_op_layer_Elu_4 (TensorFlowOp [(None, 64, 64, 96)] 0           tf_op_layer_split_4[0][0]        \n",
      "__________________________________________________________________________________________________\n",
      "tf_op_layer_Sigmoid_4 (TensorFl [(None, 64, 64, 96)] 0           tf_op_layer_split_4[0][1]        \n",
      "__________________________________________________________________________________________________\n",
      "tf_op_layer_Mul_6 (TensorFlowOp [(None, 64, 64, 96)] 0           tf_op_layer_Elu_4[0][0]          \n",
      "                                                                 tf_op_layer_Sigmoid_4[0][0]      \n",
      "__________________________________________________________________________________________________\n",
      "tf_op_layer_Pad_5 (TensorFlowOp [(None, 66, 66, 96)] 0           tf_op_layer_Mul_6[0][0]          \n",
      "__________________________________________________________________________________________________\n",
      "conv6 (Conv2D)                  (None, 64, 64, 192)  166080      tf_op_layer_Pad_5[0][0]          \n",
      "__________________________________________________________________________________________________\n",
      "tf_op_layer_split_5 (TensorFlow [(None, 64, 64, 96), 0           conv6[0][0]                      \n",
      "__________________________________________________________________________________________________\n",
      "tf_op_layer_Elu_5 (TensorFlowOp [(None, 64, 64, 96)] 0           tf_op_layer_split_5[0][0]        \n",
      "__________________________________________________________________________________________________\n",
      "tf_op_layer_Sigmoid_5 (TensorFl [(None, 64, 64, 96)] 0           tf_op_layer_split_5[0][1]        \n",
      "__________________________________________________________________________________________________\n",
      "tf_op_layer_Mul_7 (TensorFlowOp [(None, 64, 64, 96)] 0           tf_op_layer_Elu_5[0][0]          \n",
      "                                                                 tf_op_layer_Sigmoid_5[0][0]      \n",
      "__________________________________________________________________________________________________\n",
      "tf_op_layer_Pad_6 (TensorFlowOp [(None, 68, 68, 96)] 0           tf_op_layer_Mul_7[0][0]          \n",
      "__________________________________________________________________________________________________\n",
      "conv7_atrous (Conv2D)           (None, 64, 64, 192)  166080      tf_op_layer_Pad_6[0][0]          \n",
      "__________________________________________________________________________________________________\n",
      "tf_op_layer_split_6 (TensorFlow [(None, 64, 64, 96), 0           conv7_atrous[0][0]               \n",
      "__________________________________________________________________________________________________\n",
      "tf_op_layer_Elu_6 (TensorFlowOp [(None, 64, 64, 96)] 0           tf_op_layer_split_6[0][0]        \n",
      "__________________________________________________________________________________________________\n",
      "tf_op_layer_Sigmoid_6 (TensorFl [(None, 64, 64, 96)] 0           tf_op_layer_split_6[0][1]        \n",
      "__________________________________________________________________________________________________\n",
      "tf_op_layer_Mul_8 (TensorFlowOp [(None, 64, 64, 96)] 0           tf_op_layer_Elu_6[0][0]          \n",
      "                                                                 tf_op_layer_Sigmoid_6[0][0]      \n",
      "__________________________________________________________________________________________________\n",
      "tf_op_layer_Pad_7 (TensorFlowOp [(None, 72, 72, 96)] 0           tf_op_layer_Mul_8[0][0]          \n",
      "__________________________________________________________________________________________________\n",
      "conv8_atrous (Conv2D)           (None, 64, 64, 192)  166080      tf_op_layer_Pad_7[0][0]          \n",
      "__________________________________________________________________________________________________\n",
      "tf_op_layer_split_7 (TensorFlow [(None, 64, 64, 96), 0           conv8_atrous[0][0]               \n",
      "__________________________________________________________________________________________________\n",
      "tf_op_layer_Elu_7 (TensorFlowOp [(None, 64, 64, 96)] 0           tf_op_layer_split_7[0][0]        \n",
      "__________________________________________________________________________________________________\n",
      "tf_op_layer_Sigmoid_7 (TensorFl [(None, 64, 64, 96)] 0           tf_op_layer_split_7[0][1]        \n",
      "__________________________________________________________________________________________________\n",
      "tf_op_layer_Mul_9 (TensorFlowOp [(None, 64, 64, 96)] 0           tf_op_layer_Elu_7[0][0]          \n",
      "                                                                 tf_op_layer_Sigmoid_7[0][0]      \n",
      "__________________________________________________________________________________________________\n",
      "tf_op_layer_Pad_8 (TensorFlowOp [(None, 80, 80, 96)] 0           tf_op_layer_Mul_9[0][0]          \n",
      "__________________________________________________________________________________________________\n",
      "conv9_atrous (Conv2D)           (None, 64, 64, 192)  166080      tf_op_layer_Pad_8[0][0]          \n",
      "__________________________________________________________________________________________________\n",
      "tf_op_layer_split_8 (TensorFlow [(None, 64, 64, 96), 0           conv9_atrous[0][0]               \n",
      "__________________________________________________________________________________________________\n",
      "tf_op_layer_Elu_8 (TensorFlowOp [(None, 64, 64, 96)] 0           tf_op_layer_split_8[0][0]        \n",
      "__________________________________________________________________________________________________\n",
      "tf_op_layer_Sigmoid_8 (TensorFl [(None, 64, 64, 96)] 0           tf_op_layer_split_8[0][1]        \n",
      "__________________________________________________________________________________________________\n",
      "tf_op_layer_Mul_10 (TensorFlowO [(None, 64, 64, 96)] 0           tf_op_layer_Elu_8[0][0]          \n",
      "                                                                 tf_op_layer_Sigmoid_8[0][0]      \n",
      "__________________________________________________________________________________________________\n",
      "tf_op_layer_Pad_9 (TensorFlowOp [(None, 96, 96, 96)] 0           tf_op_layer_Mul_10[0][0]         \n",
      "__________________________________________________________________________________________________\n",
      "conv10_atrous (Conv2D)          (None, 64, 64, 192)  166080      tf_op_layer_Pad_9[0][0]          \n",
      "__________________________________________________________________________________________________\n",
      "tf_op_layer_split_9 (TensorFlow [(None, 64, 64, 96), 0           conv10_atrous[0][0]              \n",
      "__________________________________________________________________________________________________\n",
      "tf_op_layer_Elu_9 (TensorFlowOp [(None, 64, 64, 96)] 0           tf_op_layer_split_9[0][0]        \n",
      "__________________________________________________________________________________________________\n",
      "tf_op_layer_Sigmoid_9 (TensorFl [(None, 64, 64, 96)] 0           tf_op_layer_split_9[0][1]        \n",
      "__________________________________________________________________________________________________\n",
      "tf_op_layer_Mul_11 (TensorFlowO [(None, 64, 64, 96)] 0           tf_op_layer_Elu_9[0][0]          \n",
      "                                                                 tf_op_layer_Sigmoid_9[0][0]      \n",
      "__________________________________________________________________________________________________\n",
      "tf_op_layer_Pad_10 (TensorFlowO [(None, 66, 66, 96)] 0           tf_op_layer_Mul_11[0][0]         \n",
      "__________________________________________________________________________________________________\n",
      "conv11 (Conv2D)                 (None, 64, 64, 192)  166080      tf_op_layer_Pad_10[0][0]         \n",
      "__________________________________________________________________________________________________\n",
      "tf_op_layer_split_10 (TensorFlo [(None, 64, 64, 96), 0           conv11[0][0]                     \n",
      "__________________________________________________________________________________________________\n",
      "tf_op_layer_Elu_10 (TensorFlowO [(None, 64, 64, 96)] 0           tf_op_layer_split_10[0][0]       \n",
      "__________________________________________________________________________________________________\n",
      "tf_op_layer_Sigmoid_10 (TensorF [(None, 64, 64, 96)] 0           tf_op_layer_split_10[0][1]       \n",
      "__________________________________________________________________________________________________\n",
      "tf_op_layer_Mul_12 (TensorFlowO [(None, 64, 64, 96)] 0           tf_op_layer_Elu_10[0][0]         \n",
      "                                                                 tf_op_layer_Sigmoid_10[0][0]     \n",
      "__________________________________________________________________________________________________\n",
      "tf_op_layer_Pad_11 (TensorFlowO [(None, 66, 66, 96)] 0           tf_op_layer_Mul_12[0][0]         \n",
      "__________________________________________________________________________________________________\n",
      "conv12 (Conv2D)                 (None, 64, 64, 192)  166080      tf_op_layer_Pad_11[0][0]         \n",
      "__________________________________________________________________________________________________\n",
      "tf_op_layer_split_11 (TensorFlo [(None, 64, 64, 96), 0           conv12[0][0]                     \n",
      "__________________________________________________________________________________________________\n",
      "tf_op_layer_Elu_11 (TensorFlowO [(None, 64, 64, 96)] 0           tf_op_layer_split_11[0][0]       \n",
      "__________________________________________________________________________________________________\n",
      "tf_op_layer_Sigmoid_11 (TensorF [(None, 64, 64, 96)] 0           tf_op_layer_split_11[0][1]       \n",
      "__________________________________________________________________________________________________\n",
      "tf_op_layer_Mul_13 (TensorFlowO [(None, 64, 64, 96)] 0           tf_op_layer_Elu_11[0][0]         \n",
      "                                                                 tf_op_layer_Sigmoid_11[0][0]     \n",
      "__________________________________________________________________________________________________\n",
      "up_sampling2d (UpSampling2D)    (None, 128, 128, 96) 0           tf_op_layer_Mul_13[0][0]         \n",
      "__________________________________________________________________________________________________\n",
      "tf_op_layer_Pad_12 (TensorFlowO [(None, 130, 130, 96 0           up_sampling2d[0][0]              \n",
      "__________________________________________________________________________________________________\n",
      "conv13_upsample_conv (Conv2D)   (None, 128, 128, 96) 83040       tf_op_layer_Pad_12[0][0]         \n",
      "__________________________________________________________________________________________________\n",
      "tf_op_layer_split_12 (TensorFlo [(None, 128, 128, 48 0           conv13_upsample_conv[0][0]       \n",
      "__________________________________________________________________________________________________\n",
      "tf_op_layer_Elu_12 (TensorFlowO [(None, 128, 128, 48 0           tf_op_layer_split_12[0][0]       \n",
      "__________________________________________________________________________________________________\n",
      "tf_op_layer_Sigmoid_12 (TensorF [(None, 128, 128, 48 0           tf_op_layer_split_12[0][1]       \n",
      "__________________________________________________________________________________________________\n",
      "tf_op_layer_Mul_14 (TensorFlowO [(None, 128, 128, 48 0           tf_op_layer_Elu_12[0][0]         \n",
      "                                                                 tf_op_layer_Sigmoid_12[0][0]     \n",
      "__________________________________________________________________________________________________\n",
      "tf_op_layer_Pad_13 (TensorFlowO [(None, 130, 130, 48 0           tf_op_layer_Mul_14[0][0]         \n",
      "__________________________________________________________________________________________________\n",
      "conv14 (Conv2D)                 (None, 128, 128, 96) 41568       tf_op_layer_Pad_13[0][0]         \n",
      "__________________________________________________________________________________________________\n",
      "tf_op_layer_split_13 (TensorFlo [(None, 128, 128, 48 0           conv14[0][0]                     \n",
      "__________________________________________________________________________________________________\n",
      "tf_op_layer_Elu_13 (TensorFlowO [(None, 128, 128, 48 0           tf_op_layer_split_13[0][0]       \n",
      "__________________________________________________________________________________________________\n",
      "tf_op_layer_Sigmoid_13 (TensorF [(None, 128, 128, 48 0           tf_op_layer_split_13[0][1]       \n",
      "__________________________________________________________________________________________________\n",
      "tf_op_layer_Mul_15 (TensorFlowO [(None, 128, 128, 48 0           tf_op_layer_Elu_13[0][0]         \n",
      "                                                                 tf_op_layer_Sigmoid_13[0][0]     \n",
      "__________________________________________________________________________________________________\n",
      "up_sampling2d_1 (UpSampling2D)  (None, 256, 256, 48) 0           tf_op_layer_Mul_15[0][0]         \n",
      "__________________________________________________________________________________________________\n",
      "tf_op_layer_Pad_14 (TensorFlowO [(None, 258, 258, 48 0           up_sampling2d_1[0][0]            \n",
      "__________________________________________________________________________________________________\n",
      "conv15_upsample_conv (Conv2D)   (None, 256, 256, 48) 20784       tf_op_layer_Pad_14[0][0]         \n",
      "__________________________________________________________________________________________________\n",
      "tf_op_layer_split_14 (TensorFlo [(None, 256, 256, 24 0           conv15_upsample_conv[0][0]       \n",
      "__________________________________________________________________________________________________\n",
      "tf_op_layer_Elu_14 (TensorFlowO [(None, 256, 256, 24 0           tf_op_layer_split_14[0][0]       \n",
      "__________________________________________________________________________________________________\n",
      "tf_op_layer_Sigmoid_14 (TensorF [(None, 256, 256, 24 0           tf_op_layer_split_14[0][1]       \n",
      "__________________________________________________________________________________________________\n",
      "tf_op_layer_Mul_16 (TensorFlowO [(None, 256, 256, 24 0           tf_op_layer_Elu_14[0][0]         \n",
      "                                                                 tf_op_layer_Sigmoid_14[0][0]     \n",
      "__________________________________________________________________________________________________\n",
      "tf_op_layer_Pad_15 (TensorFlowO [(None, 258, 258, 24 0           tf_op_layer_Mul_16[0][0]         \n",
      "__________________________________________________________________________________________________\n",
      "conv16 (Conv2D)                 (None, 256, 256, 24) 5208        tf_op_layer_Pad_15[0][0]         \n",
      "__________________________________________________________________________________________________\n",
      "tf_op_layer_split_15 (TensorFlo [(None, 256, 256, 12 0           conv16[0][0]                     \n",
      "__________________________________________________________________________________________________\n",
      "tf_op_layer_Elu_15 (TensorFlowO [(None, 256, 256, 12 0           tf_op_layer_split_15[0][0]       \n",
      "__________________________________________________________________________________________________\n",
      "tf_op_layer_Sigmoid_15 (TensorF [(None, 256, 256, 12 0           tf_op_layer_split_15[0][1]       \n",
      "__________________________________________________________________________________________________\n",
      "tf_op_layer_Mul_17 (TensorFlowO [(None, 256, 256, 12 0           tf_op_layer_Elu_15[0][0]         \n",
      "                                                                 tf_op_layer_Sigmoid_15[0][0]     \n",
      "__________________________________________________________________________________________________\n",
      "tf_op_layer_Pad_16 (TensorFlowO [(None, 258, 258, 12 0           tf_op_layer_Mul_17[0][0]         \n",
      "__________________________________________________________________________________________________\n",
      "conv17 (Conv2D)                 (None, 256, 256, 3)  327         tf_op_layer_Pad_16[0][0]         \n",
      "__________________________________________________________________________________________________\n",
      "tf_op_layer_Tanh (TensorFlowOpL [(None, 256, 256, 3) 0           conv17[0][0]                     \n",
      "__________________________________________________________________________________________________\n",
      "up_sampling2d_2 (UpSampling2D)  (None, 512, 512, 3)  0           tf_op_layer_Tanh[0][0]           \n",
      "__________________________________________________________________________________________________\n",
      "tf_op_layer_Sub_2 (TensorFlowOp [(None, 512, 512, 1) 0           input_2[0][0]                    \n",
      "__________________________________________________________________________________________________\n",
      "tf_op_layer_Mul_18 (TensorFlowO [(None, 512, 512, 3) 0           up_sampling2d_2[0][0]            \n",
      "                                                                 input_2[0][0]                    \n",
      "__________________________________________________________________________________________________\n",
      "tf_op_layer_Mul_19 (TensorFlowO [(None, 512, 512, 3) 0           tf_op_layer_Mul[0][0]            \n",
      "                                                                 tf_op_layer_Sub_2[0][0]          \n",
      "__________________________________________________________________________________________________\n",
      "tf_op_layer_AddV2 (TensorFlowOp [(None, 512, 512, 3) 0           tf_op_layer_Mul_18[0][0]         \n",
      "                                                                 tf_op_layer_Mul_19[0][0]         \n",
      "__________________________________________________________________________________________________\n",
      "tf_op_layer_Pad_17 (TensorFlowO [(None, 516, 516, 3) 0           tf_op_layer_AddV2[0][0]          \n",
      "__________________________________________________________________________________________________\n",
      "xconv1 (Conv2D)                 (None, 512, 512, 48) 3648        tf_op_layer_Pad_17[0][0]         \n",
      "__________________________________________________________________________________________________\n",
      "tf_op_layer_split_16 (TensorFlo [(None, 512, 512, 24 0           xconv1[0][0]                     \n",
      "__________________________________________________________________________________________________\n",
      "tf_op_layer_Elu_16 (TensorFlowO [(None, 512, 512, 24 0           tf_op_layer_split_16[0][0]       \n",
      "__________________________________________________________________________________________________\n",
      "tf_op_layer_Sigmoid_16 (TensorF [(None, 512, 512, 24 0           tf_op_layer_split_16[0][1]       \n",
      "__________________________________________________________________________________________________\n",
      "tf_op_layer_Mul_20 (TensorFlowO [(None, 512, 512, 24 0           tf_op_layer_Elu_16[0][0]         \n",
      "                                                                 tf_op_layer_Sigmoid_16[0][0]     \n",
      "__________________________________________________________________________________________________\n",
      "tf_op_layer_Pad_18 (TensorFlowO [(None, 514, 514, 24 0           tf_op_layer_Mul_20[0][0]         \n",
      "__________________________________________________________________________________________________\n",
      "xconv2_downsample (Conv2D)      (None, 256, 256, 48) 10416       tf_op_layer_Pad_18[0][0]         \n",
      "__________________________________________________________________________________________________\n",
      "tf_op_layer_split_17 (TensorFlo [(None, 256, 256, 24 0           xconv2_downsample[0][0]          \n",
      "__________________________________________________________________________________________________\n",
      "tf_op_layer_Elu_17 (TensorFlowO [(None, 256, 256, 24 0           tf_op_layer_split_17[0][0]       \n",
      "__________________________________________________________________________________________________\n",
      "tf_op_layer_Sigmoid_17 (TensorF [(None, 256, 256, 24 0           tf_op_layer_split_17[0][1]       \n",
      "__________________________________________________________________________________________________\n",
      "tf_op_layer_Mul_21 (TensorFlowO [(None, 256, 256, 24 0           tf_op_layer_Elu_17[0][0]         \n",
      "                                                                 tf_op_layer_Sigmoid_17[0][0]     \n",
      "__________________________________________________________________________________________________\n",
      "tf_op_layer_Pad_19 (TensorFlowO [(None, 258, 258, 24 0           tf_op_layer_Mul_21[0][0]         \n",
      "__________________________________________________________________________________________________\n",
      "tf_op_layer_Pad_27 (TensorFlowO [(None, 516, 516, 3) 0           tf_op_layer_AddV2[0][0]          \n",
      "__________________________________________________________________________________________________\n",
      "xconv3 (Conv2D)                 (None, 256, 256, 96) 20832       tf_op_layer_Pad_19[0][0]         \n",
      "__________________________________________________________________________________________________\n",
      "pmconv1 (Conv2D)                (None, 512, 512, 48) 3648        tf_op_layer_Pad_27[0][0]         \n",
      "__________________________________________________________________________________________________\n",
      "tf_op_layer_split_18 (TensorFlo [(None, 256, 256, 48 0           xconv3[0][0]                     \n",
      "__________________________________________________________________________________________________\n",
      "tf_op_layer_split_26 (TensorFlo [(None, 512, 512, 24 0           pmconv1[0][0]                    \n",
      "__________________________________________________________________________________________________\n",
      "tf_op_layer_Elu_18 (TensorFlowO [(None, 256, 256, 48 0           tf_op_layer_split_18[0][0]       \n",
      "__________________________________________________________________________________________________\n",
      "tf_op_layer_Sigmoid_18 (TensorF [(None, 256, 256, 48 0           tf_op_layer_split_18[0][1]       \n",
      "__________________________________________________________________________________________________\n",
      "tf_op_layer_Elu_26 (TensorFlowO [(None, 512, 512, 24 0           tf_op_layer_split_26[0][0]       \n",
      "__________________________________________________________________________________________________\n",
      "tf_op_layer_Sigmoid_26 (TensorF [(None, 512, 512, 24 0           tf_op_layer_split_26[0][1]       \n",
      "__________________________________________________________________________________________________\n",
      "tf_op_layer_Mul_22 (TensorFlowO [(None, 256, 256, 48 0           tf_op_layer_Elu_18[0][0]         \n",
      "                                                                 tf_op_layer_Sigmoid_18[0][0]     \n",
      "__________________________________________________________________________________________________\n",
      "tf_op_layer_Mul_30 (TensorFlowO [(None, 512, 512, 24 0           tf_op_layer_Elu_26[0][0]         \n",
      "                                                                 tf_op_layer_Sigmoid_26[0][0]     \n",
      "__________________________________________________________________________________________________\n",
      "tf_op_layer_Pad_20 (TensorFlowO [(None, 258, 258, 48 0           tf_op_layer_Mul_22[0][0]         \n",
      "__________________________________________________________________________________________________\n",
      "tf_op_layer_Pad_28 (TensorFlowO [(None, 514, 514, 24 0           tf_op_layer_Mul_30[0][0]         \n",
      "__________________________________________________________________________________________________\n",
      "xconv4_downsample (Conv2D)      (None, 128, 128, 96) 41568       tf_op_layer_Pad_20[0][0]         \n",
      "__________________________________________________________________________________________________\n",
      "pmconv2_downsample (Conv2D)     (None, 256, 256, 48) 10416       tf_op_layer_Pad_28[0][0]         \n",
      "__________________________________________________________________________________________________\n",
      "tf_op_layer_split_19 (TensorFlo [(None, 128, 128, 48 0           xconv4_downsample[0][0]          \n",
      "__________________________________________________________________________________________________\n",
      "tf_op_layer_split_27 (TensorFlo [(None, 256, 256, 24 0           pmconv2_downsample[0][0]         \n",
      "__________________________________________________________________________________________________\n",
      "tf_op_layer_Elu_19 (TensorFlowO [(None, 128, 128, 48 0           tf_op_layer_split_19[0][0]       \n",
      "__________________________________________________________________________________________________\n",
      "tf_op_layer_Sigmoid_19 (TensorF [(None, 128, 128, 48 0           tf_op_layer_split_19[0][1]       \n",
      "__________________________________________________________________________________________________\n",
      "tf_op_layer_Elu_27 (TensorFlowO [(None, 256, 256, 24 0           tf_op_layer_split_27[0][0]       \n",
      "__________________________________________________________________________________________________\n",
      "tf_op_layer_Sigmoid_27 (TensorF [(None, 256, 256, 24 0           tf_op_layer_split_27[0][1]       \n",
      "__________________________________________________________________________________________________\n",
      "tf_op_layer_Mul_23 (TensorFlowO [(None, 128, 128, 48 0           tf_op_layer_Elu_19[0][0]         \n",
      "                                                                 tf_op_layer_Sigmoid_19[0][0]     \n",
      "__________________________________________________________________________________________________\n",
      "tf_op_layer_Mul_31 (TensorFlowO [(None, 256, 256, 24 0           tf_op_layer_Elu_27[0][0]         \n",
      "                                                                 tf_op_layer_Sigmoid_27[0][0]     \n",
      "__________________________________________________________________________________________________\n",
      "tf_op_layer_Pad_21 (TensorFlowO [(None, 130, 130, 48 0           tf_op_layer_Mul_23[0][0]         \n",
      "__________________________________________________________________________________________________\n",
      "tf_op_layer_Pad_29 (TensorFlowO [(None, 258, 258, 24 0           tf_op_layer_Mul_31[0][0]         \n",
      "__________________________________________________________________________________________________\n",
      "xconv5 (Conv2D)                 (None, 128, 128, 192 83136       tf_op_layer_Pad_21[0][0]         \n",
      "__________________________________________________________________________________________________\n",
      "pmconv3 (Conv2D)                (None, 256, 256, 96) 20832       tf_op_layer_Pad_29[0][0]         \n",
      "__________________________________________________________________________________________________\n",
      "tf_op_layer_split_20 (TensorFlo [(None, 128, 128, 96 0           xconv5[0][0]                     \n",
      "__________________________________________________________________________________________________\n",
      "tf_op_layer_split_28 (TensorFlo [(None, 256, 256, 48 0           pmconv3[0][0]                    \n",
      "__________________________________________________________________________________________________\n",
      "tf_op_layer_Elu_20 (TensorFlowO [(None, 128, 128, 96 0           tf_op_layer_split_20[0][0]       \n",
      "__________________________________________________________________________________________________\n",
      "tf_op_layer_Sigmoid_20 (TensorF [(None, 128, 128, 96 0           tf_op_layer_split_20[0][1]       \n",
      "__________________________________________________________________________________________________\n",
      "tf_op_layer_Elu_28 (TensorFlowO [(None, 256, 256, 48 0           tf_op_layer_split_28[0][0]       \n",
      "__________________________________________________________________________________________________\n",
      "tf_op_layer_Sigmoid_28 (TensorF [(None, 256, 256, 48 0           tf_op_layer_split_28[0][1]       \n",
      "__________________________________________________________________________________________________\n",
      "tf_op_layer_Mul_24 (TensorFlowO [(None, 128, 128, 96 0           tf_op_layer_Elu_20[0][0]         \n",
      "                                                                 tf_op_layer_Sigmoid_20[0][0]     \n",
      "__________________________________________________________________________________________________\n",
      "tf_op_layer_Mul_32 (TensorFlowO [(None, 256, 256, 48 0           tf_op_layer_Elu_28[0][0]         \n",
      "                                                                 tf_op_layer_Sigmoid_28[0][0]     \n",
      "__________________________________________________________________________________________________\n",
      "tf_op_layer_Pad_22 (TensorFlowO [(None, 130, 130, 96 0           tf_op_layer_Mul_24[0][0]         \n",
      "__________________________________________________________________________________________________\n",
      "tf_op_layer_Pad_30 (TensorFlowO [(None, 258, 258, 48 0           tf_op_layer_Mul_32[0][0]         \n",
      "__________________________________________________________________________________________________\n",
      "xconv6 (Conv2D)                 (None, 128, 128, 192 166080      tf_op_layer_Pad_22[0][0]         \n",
      "__________________________________________________________________________________________________\n",
      "pmconv4_downsample (Conv2D)     (None, 128, 128, 192 83136       tf_op_layer_Pad_30[0][0]         \n",
      "__________________________________________________________________________________________________\n",
      "tf_op_layer_split_21 (TensorFlo [(None, 128, 128, 96 0           xconv6[0][0]                     \n",
      "__________________________________________________________________________________________________\n",
      "tf_op_layer_split_29 (TensorFlo [(None, 128, 128, 96 0           pmconv4_downsample[0][0]         \n",
      "__________________________________________________________________________________________________\n",
      "tf_op_layer_Elu_21 (TensorFlowO [(None, 128, 128, 96 0           tf_op_layer_split_21[0][0]       \n",
      "__________________________________________________________________________________________________\n",
      "tf_op_layer_Sigmoid_21 (TensorF [(None, 128, 128, 96 0           tf_op_layer_split_21[0][1]       \n",
      "__________________________________________________________________________________________________\n",
      "tf_op_layer_Elu_29 (TensorFlowO [(None, 128, 128, 96 0           tf_op_layer_split_29[0][0]       \n",
      "__________________________________________________________________________________________________\n",
      "tf_op_layer_Sigmoid_29 (TensorF [(None, 128, 128, 96 0           tf_op_layer_split_29[0][1]       \n",
      "__________________________________________________________________________________________________\n",
      "tf_op_layer_Mul_25 (TensorFlowO [(None, 128, 128, 96 0           tf_op_layer_Elu_21[0][0]         \n",
      "                                                                 tf_op_layer_Sigmoid_21[0][0]     \n",
      "__________________________________________________________________________________________________\n",
      "tf_op_layer_Mul_33 (TensorFlowO [(None, 128, 128, 96 0           tf_op_layer_Elu_29[0][0]         \n",
      "                                                                 tf_op_layer_Sigmoid_29[0][0]     \n",
      "__________________________________________________________________________________________________\n",
      "tf_op_layer_Pad_23 (TensorFlowO [(None, 132, 132, 96 0           tf_op_layer_Mul_25[0][0]         \n",
      "__________________________________________________________________________________________________\n",
      "tf_op_layer_Pad_31 (TensorFlowO [(None, 130, 130, 96 0           tf_op_layer_Mul_33[0][0]         \n",
      "__________________________________________________________________________________________________\n",
      "xconv7_atrous (Conv2D)          (None, 128, 128, 192 166080      tf_op_layer_Pad_23[0][0]         \n",
      "__________________________________________________________________________________________________\n",
      "pmconv5 (Conv2D)                (None, 128, 128, 192 166080      tf_op_layer_Pad_31[0][0]         \n",
      "__________________________________________________________________________________________________\n",
      "tf_op_layer_split_22 (TensorFlo [(None, 128, 128, 96 0           xconv7_atrous[0][0]              \n",
      "__________________________________________________________________________________________________\n",
      "tf_op_layer_split_30 (TensorFlo [(None, 128, 128, 96 0           pmconv5[0][0]                    \n",
      "__________________________________________________________________________________________________\n",
      "tf_op_layer_Elu_22 (TensorFlowO [(None, 128, 128, 96 0           tf_op_layer_split_22[0][0]       \n",
      "__________________________________________________________________________________________________\n",
      "tf_op_layer_Sigmoid_22 (TensorF [(None, 128, 128, 96 0           tf_op_layer_split_22[0][1]       \n",
      "__________________________________________________________________________________________________\n",
      "tf_op_layer_Elu_30 (TensorFlowO [(None, 128, 128, 96 0           tf_op_layer_split_30[0][0]       \n",
      "__________________________________________________________________________________________________\n",
      "tf_op_layer_Sigmoid_30 (TensorF [(None, 128, 128, 96 0           tf_op_layer_split_30[0][1]       \n",
      "__________________________________________________________________________________________________\n",
      "tf_op_layer_Mul_26 (TensorFlowO [(None, 128, 128, 96 0           tf_op_layer_Elu_22[0][0]         \n",
      "                                                                 tf_op_layer_Sigmoid_22[0][0]     \n",
      "__________________________________________________________________________________________________\n",
      "tf_op_layer_Mul_34 (TensorFlowO [(None, 128, 128, 96 0           tf_op_layer_Elu_30[0][0]         \n",
      "                                                                 tf_op_layer_Sigmoid_30[0][0]     \n",
      "__________________________________________________________________________________________________\n",
      "tf_op_layer_Pad_24 (TensorFlowO [(None, 136, 136, 96 0           tf_op_layer_Mul_26[0][0]         \n",
      "__________________________________________________________________________________________________\n",
      "tf_op_layer_Pad_32 (TensorFlowO [(None, 130, 130, 96 0           tf_op_layer_Mul_34[0][0]         \n",
      "__________________________________________________________________________________________________\n",
      "xconv8_atrous (Conv2D)          (None, 128, 128, 192 166080      tf_op_layer_Pad_24[0][0]         \n",
      "__________________________________________________________________________________________________\n",
      "pmconv6 (Conv2D)                (None, 128, 128, 192 166080      tf_op_layer_Pad_32[0][0]         \n",
      "__________________________________________________________________________________________________\n",
      "tf_op_layer_split_23 (TensorFlo [(None, 128, 128, 96 0           xconv8_atrous[0][0]              \n",
      "__________________________________________________________________________________________________\n",
      "tf_op_layer_split_31 (TensorFlo [(None, 128, 128, 96 0           pmconv6[0][0]                    \n",
      "__________________________________________________________________________________________________\n",
      "tf_op_layer_Elu_23 (TensorFlowO [(None, 128, 128, 96 0           tf_op_layer_split_23[0][0]       \n",
      "__________________________________________________________________________________________________\n",
      "tf_op_layer_Sigmoid_23 (TensorF [(None, 128, 128, 96 0           tf_op_layer_split_23[0][1]       \n",
      "__________________________________________________________________________________________________\n",
      "tf_op_layer_Relu (TensorFlowOpL [(None, 128, 128, 96 0           tf_op_layer_split_31[0][0]       \n",
      "__________________________________________________________________________________________________\n",
      "tf_op_layer_Sigmoid_31 (TensorF [(None, 128, 128, 96 0           tf_op_layer_split_31[0][1]       \n",
      "__________________________________________________________________________________________________\n",
      "tf_op_layer_Mul_27 (TensorFlowO [(None, 128, 128, 96 0           tf_op_layer_Elu_23[0][0]         \n",
      "                                                                 tf_op_layer_Sigmoid_23[0][0]     \n",
      "__________________________________________________________________________________________________\n",
      "tf_op_layer_Mul_35 (TensorFlowO [(None, 128, 128, 96 0           tf_op_layer_Relu[0][0]           \n",
      "                                                                 tf_op_layer_Sigmoid_31[0][0]     \n",
      "__________________________________________________________________________________________________\n",
      "tf_op_layer_Pad_25 (TensorFlowO [(None, 144, 144, 96 0           tf_op_layer_Mul_27[0][0]         \n",
      "__________________________________________________________________________________________________\n",
      "tf_op_layer_Pad_33 (TensorFlowO [(None, 130, 130, 96 0           tf_op_layer_Mul_35[0][0]         \n",
      "__________________________________________________________________________________________________\n",
      "xconv9_atrous (Conv2D)          (None, 128, 128, 192 166080      tf_op_layer_Pad_25[0][0]         \n",
      "__________________________________________________________________________________________________\n",
      "pmconv9 (Conv2D)                (None, 128, 128, 192 166080      tf_op_layer_Pad_33[0][0]         \n",
      "__________________________________________________________________________________________________\n",
      "tf_op_layer_split_24 (TensorFlo [(None, 128, 128, 96 0           xconv9_atrous[0][0]              \n",
      "__________________________________________________________________________________________________\n",
      "tf_op_layer_split_32 (TensorFlo [(None, 128, 128, 96 0           pmconv9[0][0]                    \n",
      "__________________________________________________________________________________________________\n",
      "tf_op_layer_Elu_24 (TensorFlowO [(None, 128, 128, 96 0           tf_op_layer_split_24[0][0]       \n",
      "__________________________________________________________________________________________________\n",
      "tf_op_layer_Sigmoid_24 (TensorF [(None, 128, 128, 96 0           tf_op_layer_split_24[0][1]       \n",
      "__________________________________________________________________________________________________\n",
      "tf_op_layer_Elu_31 (TensorFlowO [(None, 128, 128, 96 0           tf_op_layer_split_32[0][0]       \n",
      "__________________________________________________________________________________________________\n",
      "tf_op_layer_Sigmoid_32 (TensorF [(None, 128, 128, 96 0           tf_op_layer_split_32[0][1]       \n",
      "__________________________________________________________________________________________________\n",
      "tf_op_layer_Mul_28 (TensorFlowO [(None, 128, 128, 96 0           tf_op_layer_Elu_24[0][0]         \n",
      "                                                                 tf_op_layer_Sigmoid_24[0][0]     \n",
      "__________________________________________________________________________________________________\n",
      "tf_op_layer_Mul_36 (TensorFlowO [(None, 128, 128, 96 0           tf_op_layer_Elu_31[0][0]         \n",
      "                                                                 tf_op_layer_Sigmoid_32[0][0]     \n",
      "__________________________________________________________________________________________________\n",
      "tf_op_layer_Pad_26 (TensorFlowO [(None, 160, 160, 96 0           tf_op_layer_Mul_28[0][0]         \n",
      "__________________________________________________________________________________________________\n",
      "tf_op_layer_Pad_34 (TensorFlowO [(None, 130, 130, 96 0           tf_op_layer_Mul_36[0][0]         \n",
      "__________________________________________________________________________________________________\n",
      "xconv10_atrous (Conv2D)         (None, 128, 128, 192 166080      tf_op_layer_Pad_26[0][0]         \n",
      "__________________________________________________________________________________________________\n",
      "pmconv10 (Conv2D)               (None, 128, 128, 192 166080      tf_op_layer_Pad_34[0][0]         \n",
      "__________________________________________________________________________________________________\n",
      "tf_op_layer_split_25 (TensorFlo [(None, 128, 128, 96 0           xconv10_atrous[0][0]             \n",
      "__________________________________________________________________________________________________\n",
      "tf_op_layer_split_33 (TensorFlo [(None, 128, 128, 96 0           pmconv10[0][0]                   \n",
      "__________________________________________________________________________________________________\n",
      "tf_op_layer_Elu_25 (TensorFlowO [(None, 128, 128, 96 0           tf_op_layer_split_25[0][0]       \n",
      "__________________________________________________________________________________________________\n",
      "tf_op_layer_Sigmoid_25 (TensorF [(None, 128, 128, 96 0           tf_op_layer_split_25[0][1]       \n",
      "__________________________________________________________________________________________________\n",
      "tf_op_layer_Elu_32 (TensorFlowO [(None, 128, 128, 96 0           tf_op_layer_split_33[0][0]       \n",
      "__________________________________________________________________________________________________\n",
      "tf_op_layer_Sigmoid_33 (TensorF [(None, 128, 128, 96 0           tf_op_layer_split_33[0][1]       \n",
      "__________________________________________________________________________________________________\n",
      "tf_op_layer_Mul_29 (TensorFlowO [(None, 128, 128, 96 0           tf_op_layer_Elu_25[0][0]         \n",
      "                                                                 tf_op_layer_Sigmoid_25[0][0]     \n",
      "__________________________________________________________________________________________________\n",
      "tf_op_layer_Mul_37 (TensorFlowO [(None, 128, 128, 96 0           tf_op_layer_Elu_32[0][0]         \n",
      "                                                                 tf_op_layer_Sigmoid_33[0][0]     \n",
      "__________________________________________________________________________________________________\n",
      "tf_op_layer_concat_1 (TensorFlo [(None, 128, 128, 19 0           tf_op_layer_Mul_29[0][0]         \n",
      "                                                                 tf_op_layer_Mul_37[0][0]         \n",
      "__________________________________________________________________________________________________\n",
      "tf_op_layer_Pad_35 (TensorFlowO [(None, 130, 130, 19 0           tf_op_layer_concat_1[0][0]       \n",
      "__________________________________________________________________________________________________\n",
      "allconv11 (Conv2D)              (None, 128, 128, 192 331968      tf_op_layer_Pad_35[0][0]         \n",
      "__________________________________________________________________________________________________\n",
      "tf_op_layer_split_34 (TensorFlo [(None, 128, 128, 96 0           allconv11[0][0]                  \n",
      "__________________________________________________________________________________________________\n",
      "tf_op_layer_Elu_33 (TensorFlowO [(None, 128, 128, 96 0           tf_op_layer_split_34[0][0]       \n",
      "__________________________________________________________________________________________________\n",
      "tf_op_layer_Sigmoid_34 (TensorF [(None, 128, 128, 96 0           tf_op_layer_split_34[0][1]       \n",
      "__________________________________________________________________________________________________\n",
      "tf_op_layer_Mul_38 (TensorFlowO [(None, 128, 128, 96 0           tf_op_layer_Elu_33[0][0]         \n",
      "                                                                 tf_op_layer_Sigmoid_34[0][0]     \n",
      "__________________________________________________________________________________________________\n",
      "tf_op_layer_Pad_36 (TensorFlowO [(None, 130, 130, 96 0           tf_op_layer_Mul_38[0][0]         \n",
      "__________________________________________________________________________________________________\n",
      "allconv12 (Conv2D)              (None, 128, 128, 192 166080      tf_op_layer_Pad_36[0][0]         \n",
      "__________________________________________________________________________________________________\n",
      "tf_op_layer_split_35 (TensorFlo [(None, 128, 128, 96 0           allconv12[0][0]                  \n",
      "__________________________________________________________________________________________________\n",
      "tf_op_layer_Elu_34 (TensorFlowO [(None, 128, 128, 96 0           tf_op_layer_split_35[0][0]       \n",
      "__________________________________________________________________________________________________\n",
      "tf_op_layer_Sigmoid_35 (TensorF [(None, 128, 128, 96 0           tf_op_layer_split_35[0][1]       \n",
      "__________________________________________________________________________________________________\n",
      "tf_op_layer_Mul_39 (TensorFlowO [(None, 128, 128, 96 0           tf_op_layer_Elu_34[0][0]         \n",
      "                                                                 tf_op_layer_Sigmoid_35[0][0]     \n",
      "__________________________________________________________________________________________________\n",
      "up_sampling2d_3 (UpSampling2D)  (None, 256, 256, 96) 0           tf_op_layer_Mul_39[0][0]         \n",
      "__________________________________________________________________________________________________\n",
      "tf_op_layer_Pad_37 (TensorFlowO [(None, 258, 258, 96 0           up_sampling2d_3[0][0]            \n",
      "__________________________________________________________________________________________________\n",
      "allconv13_upsample_conv (Conv2D (None, 256, 256, 96) 83040       tf_op_layer_Pad_37[0][0]         \n",
      "__________________________________________________________________________________________________\n",
      "tf_op_layer_split_36 (TensorFlo [(None, 256, 256, 48 0           allconv13_upsample_conv[0][0]    \n",
      "__________________________________________________________________________________________________\n",
      "tf_op_layer_Elu_35 (TensorFlowO [(None, 256, 256, 48 0           tf_op_layer_split_36[0][0]       \n",
      "__________________________________________________________________________________________________\n",
      "tf_op_layer_Sigmoid_36 (TensorF [(None, 256, 256, 48 0           tf_op_layer_split_36[0][1]       \n",
      "__________________________________________________________________________________________________\n",
      "tf_op_layer_Mul_40 (TensorFlowO [(None, 256, 256, 48 0           tf_op_layer_Elu_35[0][0]         \n",
      "                                                                 tf_op_layer_Sigmoid_36[0][0]     \n",
      "__________________________________________________________________________________________________\n",
      "tf_op_layer_Pad_38 (TensorFlowO [(None, 258, 258, 48 0           tf_op_layer_Mul_40[0][0]         \n",
      "__________________________________________________________________________________________________\n",
      "allconv14 (Conv2D)              (None, 256, 256, 96) 41568       tf_op_layer_Pad_38[0][0]         \n",
      "__________________________________________________________________________________________________\n",
      "tf_op_layer_split_37 (TensorFlo [(None, 256, 256, 48 0           allconv14[0][0]                  \n",
      "__________________________________________________________________________________________________\n",
      "tf_op_layer_Elu_36 (TensorFlowO [(None, 256, 256, 48 0           tf_op_layer_split_37[0][0]       \n",
      "__________________________________________________________________________________________________\n",
      "tf_op_layer_Sigmoid_37 (TensorF [(None, 256, 256, 48 0           tf_op_layer_split_37[0][1]       \n",
      "__________________________________________________________________________________________________\n",
      "tf_op_layer_Mul_41 (TensorFlowO [(None, 256, 256, 48 0           tf_op_layer_Elu_36[0][0]         \n",
      "                                                                 tf_op_layer_Sigmoid_37[0][0]     \n",
      "__________________________________________________________________________________________________\n",
      "up_sampling2d_4 (UpSampling2D)  (None, 512, 512, 48) 0           tf_op_layer_Mul_41[0][0]         \n",
      "__________________________________________________________________________________________________\n",
      "tf_op_layer_Pad_39 (TensorFlowO [(None, 514, 514, 48 0           up_sampling2d_4[0][0]            \n",
      "__________________________________________________________________________________________________\n",
      "allconv15_upsample_conv (Conv2D (None, 512, 512, 48) 20784       tf_op_layer_Pad_39[0][0]         \n",
      "__________________________________________________________________________________________________\n",
      "tf_op_layer_split_38 (TensorFlo [(None, 512, 512, 24 0           allconv15_upsample_conv[0][0]    \n",
      "__________________________________________________________________________________________________\n",
      "tf_op_layer_Elu_37 (TensorFlowO [(None, 512, 512, 24 0           tf_op_layer_split_38[0][0]       \n",
      "__________________________________________________________________________________________________\n",
      "tf_op_layer_Sigmoid_38 (TensorF [(None, 512, 512, 24 0           tf_op_layer_split_38[0][1]       \n",
      "__________________________________________________________________________________________________\n",
      "tf_op_layer_Mul_42 (TensorFlowO [(None, 512, 512, 24 0           tf_op_layer_Elu_37[0][0]         \n",
      "                                                                 tf_op_layer_Sigmoid_38[0][0]     \n",
      "__________________________________________________________________________________________________\n",
      "tf_op_layer_Pad_40 (TensorFlowO [(None, 514, 514, 24 0           tf_op_layer_Mul_42[0][0]         \n",
      "__________________________________________________________________________________________________\n",
      "allconv16 (Conv2D)              (None, 512, 512, 24) 5208        tf_op_layer_Pad_40[0][0]         \n",
      "__________________________________________________________________________________________________\n",
      "tf_op_layer_split_39 (TensorFlo [(None, 512, 512, 12 0           allconv16[0][0]                  \n",
      "__________________________________________________________________________________________________\n",
      "tf_op_layer_Elu_38 (TensorFlowO [(None, 512, 512, 12 0           tf_op_layer_split_39[0][0]       \n",
      "__________________________________________________________________________________________________\n",
      "tf_op_layer_Sigmoid_39 (TensorF [(None, 512, 512, 12 0           tf_op_layer_split_39[0][1]       \n",
      "__________________________________________________________________________________________________\n",
      "tf_op_layer_Mul_43 (TensorFlowO [(None, 512, 512, 12 0           tf_op_layer_Elu_38[0][0]         \n",
      "                                                                 tf_op_layer_Sigmoid_39[0][0]     \n",
      "__________________________________________________________________________________________________\n",
      "tf_op_layer_Pad_41 (TensorFlowO [(None, 514, 514, 12 0           tf_op_layer_Mul_43[0][0]         \n",
      "__________________________________________________________________________________________________\n",
      "allconv17 (Conv2D)              (None, 512, 512, 3)  327         tf_op_layer_Pad_41[0][0]         \n",
      "__________________________________________________________________________________________________\n",
      "tf_op_layer_Tanh_1 (TensorFlowO [(None, 512, 512, 3) 0           allconv17[0][0]                  \n",
      "__________________________________________________________________________________________________\n",
      "tf_op_layer_AddV2_1 (TensorFlow [(None, 512, 512, 3) 0           tf_op_layer_Tanh_1[0][0]         \n",
      "__________________________________________________________________________________________________\n",
      "tf_op_layer_Mul_44 (TensorFlowO [(None, 512, 512, 3) 0           tf_op_layer_AddV2_1[0][0]        \n",
      "__________________________________________________________________________________________________\n",
      "tf_op_layer_Sub_3 (TensorFlowOp [(None, 512, 512, 1) 0           input_2[0][0]                    \n",
      "__________________________________________________________________________________________________\n",
      "tf_op_layer_Mul_45 (TensorFlowO [(None, 512, 512, 3) 0           tf_op_layer_Mul_44[0][0]         \n",
      "                                                                 input_2[0][0]                    \n",
      "__________________________________________________________________________________________________\n",
      "tf_op_layer_Mul_46 (TensorFlowO [(None, 512, 512, 3) 0           input_1[0][0]                    \n",
      "                                                                 tf_op_layer_Sub_3[0][0]          \n",
      "__________________________________________________________________________________________________\n",
      "tf_op_layer_AddV2_2 (TensorFlow [(None, 512, 512, 3) 0           tf_op_layer_Mul_45[0][0]         \n",
      "                                                                 tf_op_layer_Mul_46[0][0]         \n",
      "==================================================================================================\n",
      "Total params: 4,052,478\n",
      "Trainable params: 4,052,478\n",
      "Non-trainable params: 0\n",
      "__________________________________________________________________________________________________\n"
     ]
    }
   ],
   "source": [
    "model_tf.summary()"
   ]
  },
  {
   "cell_type": "code",
   "execution_count": null,
   "metadata": {
    "id": "gKZvrZdJySWa"
   },
   "outputs": [],
   "source": [
    "import torch\n",
    "model = torch.load(\"/content/drive/MyDrive/cr/crfill/files/model_near512.pth\",map_location=torch.device('cpu'))\n",
    "# model = torch.load(\"/content/drive/MyDrive/cr/crfill/files/model_256.pth\",map_location=torch.device('cpu'))\n"
   ]
  },
  {
   "cell_type": "code",
   "execution_count": null,
   "metadata": {
    "colab": {
     "base_uri": "https://localhost:8080/"
    },
    "id": "dYpDaHgxySWc",
    "outputId": "009859de-984b-4b55-9d98-3f644fe030d6"
   },
   "outputs": [
    {
     "name": "stdout",
     "output_type": "stream",
     "text": [
      "conv1.weight         torch.Size([48, 5, 5, 5])\n",
      "conv1.bias           torch.Size([48])\n",
      "conv2_downsample.weight torch.Size([96, 24, 3, 3])\n",
      "conv2_downsample.bias torch.Size([96])\n",
      "conv3.weight         torch.Size([96, 48, 3, 3])\n",
      "conv3.bias           torch.Size([96])\n",
      "conv4_downsample.weight torch.Size([192, 48, 3, 3])\n",
      "conv4_downsample.bias torch.Size([192])\n",
      "conv5.weight         torch.Size([192, 96, 3, 3])\n",
      "conv5.bias           torch.Size([192])\n",
      "conv6.weight         torch.Size([192, 96, 3, 3])\n",
      "conv6.bias           torch.Size([192])\n",
      "conv7_atrous.weight  torch.Size([192, 96, 3, 3])\n",
      "conv7_atrous.bias    torch.Size([192])\n",
      "conv8_atrous.weight  torch.Size([192, 96, 3, 3])\n",
      "conv8_atrous.bias    torch.Size([192])\n",
      "conv9_atrous.weight  torch.Size([192, 96, 3, 3])\n",
      "conv9_atrous.bias    torch.Size([192])\n",
      "conv10_atrous.weight torch.Size([192, 96, 3, 3])\n",
      "conv10_atrous.bias   torch.Size([192])\n",
      "conv11.weight        torch.Size([192, 96, 3, 3])\n",
      "conv11.bias          torch.Size([192])\n",
      "conv12.weight        torch.Size([192, 96, 3, 3])\n",
      "conv12.bias          torch.Size([192])\n",
      "conv13_upsample_conv.weight torch.Size([96, 96, 3, 3])\n",
      "conv13_upsample_conv.bias torch.Size([96])\n",
      "conv14.weight        torch.Size([96, 48, 3, 3])\n",
      "conv14.bias          torch.Size([96])\n",
      "conv15_upsample_conv.weight torch.Size([48, 48, 3, 3])\n",
      "conv15_upsample_conv.bias torch.Size([48])\n",
      "conv16.weight        torch.Size([24, 24, 3, 3])\n",
      "conv16.bias          torch.Size([24])\n",
      "conv17.weight        torch.Size([3, 12, 3, 3])\n",
      "conv17.bias          torch.Size([3])\n",
      "xconv1.weight        torch.Size([48, 3, 5, 5])\n",
      "xconv1.bias          torch.Size([48])\n",
      "xconv2_downsample.weight torch.Size([48, 24, 3, 3])\n",
      "xconv2_downsample.bias torch.Size([48])\n",
      "xconv3.weight        torch.Size([96, 24, 3, 3])\n",
      "xconv3.bias          torch.Size([96])\n",
      "xconv4_downsample.weight torch.Size([96, 48, 3, 3])\n",
      "xconv4_downsample.bias torch.Size([96])\n",
      "xconv5.weight        torch.Size([192, 48, 3, 3])\n",
      "xconv5.bias          torch.Size([192])\n",
      "xconv6.weight        torch.Size([192, 96, 3, 3])\n",
      "xconv6.bias          torch.Size([192])\n",
      "xconv7_atrous.weight torch.Size([192, 96, 3, 3])\n",
      "xconv7_atrous.bias   torch.Size([192])\n",
      "xconv8_atrous.weight torch.Size([192, 96, 3, 3])\n",
      "xconv8_atrous.bias   torch.Size([192])\n",
      "xconv9_atrous.weight torch.Size([192, 96, 3, 3])\n",
      "xconv9_atrous.bias   torch.Size([192])\n",
      "xconv10_atrous.weight torch.Size([192, 96, 3, 3])\n",
      "xconv10_atrous.bias  torch.Size([192])\n",
      "pmconv1.weight       torch.Size([48, 3, 5, 5])\n",
      "pmconv1.bias         torch.Size([48])\n",
      "pmconv2_downsample.weight torch.Size([48, 24, 3, 3])\n",
      "pmconv2_downsample.bias torch.Size([48])\n",
      "pmconv3.weight       torch.Size([96, 24, 3, 3])\n",
      "pmconv3.bias         torch.Size([96])\n",
      "pmconv4_downsample.weight torch.Size([192, 48, 3, 3])\n",
      "pmconv4_downsample.bias torch.Size([192])\n",
      "pmconv5.weight       torch.Size([192, 96, 3, 3])\n",
      "pmconv5.bias         torch.Size([192])\n",
      "pmconv6.weight       torch.Size([192, 96, 3, 3])\n",
      "pmconv6.bias         torch.Size([192])\n",
      "pmconv9.weight       torch.Size([192, 96, 3, 3])\n",
      "pmconv9.bias         torch.Size([192])\n",
      "pmconv10.weight      torch.Size([192, 96, 3, 3])\n",
      "pmconv10.bias        torch.Size([192])\n",
      "allconv11.weight     torch.Size([192, 192, 3, 3])\n",
      "allconv11.bias       torch.Size([192])\n",
      "allconv12.weight     torch.Size([192, 96, 3, 3])\n",
      "allconv12.bias       torch.Size([192])\n",
      "allconv13_upsample_conv.weight torch.Size([96, 96, 3, 3])\n",
      "allconv13_upsample_conv.bias torch.Size([96])\n",
      "allconv14.weight     torch.Size([96, 48, 3, 3])\n",
      "allconv14.bias       torch.Size([96])\n",
      "allconv15_upsample_conv.weight torch.Size([48, 48, 3, 3])\n",
      "allconv15_upsample_conv.bias torch.Size([48])\n",
      "allconv16.weight     torch.Size([24, 24, 3, 3])\n",
      "allconv16.bias       torch.Size([24])\n",
      "allconv17.weight     torch.Size([3, 12, 3, 3])\n",
      "allconv17.bias       torch.Size([3])\n"
     ]
    }
   ],
   "source": [
    "\n",
    "count1 =0 \n",
    "for k,v in model.items():\n",
    "   \n",
    "    print(\"{:20s} {}\".format(k, v.shape))\n",
    "    count1 += 1"
   ]
  },
  {
   "cell_type": "code",
   "execution_count": null,
   "metadata": {
    "colab": {
     "base_uri": "https://localhost:8080/"
    },
    "id": "2C8M52inStXN",
    "outputId": "91eb1946-7a8e-44a5-cb35-a922d555875d"
   },
   "outputs": [
    {
     "data": {
      "text/plain": [
       "84"
      ]
     },
     "execution_count": 9,
     "metadata": {},
     "output_type": "execute_result"
    }
   ],
   "source": [
    "count1"
   ]
  },
  {
   "cell_type": "code",
   "execution_count": null,
   "metadata": {
    "id": "UglOVqgSMLMb"
   },
   "outputs": [],
   "source": [
    "# count\n",
    "count = 0\n",
    "# a = 0\n",
    "for layer in model_tf.layers:\n",
    "\n",
    "    if layer.get_weights():\n",
    "        weight = model[str(layer.name)+\".weight\"].numpy()\n",
    "        bias = model[str(layer.name)+\".bias\"].numpy()\n",
    "        weight = weight.transpose((2, 3, 1, 0))\n",
    "       \n",
    "        layer.set_weights([weight,bias])\n",
    "        count += 1"
   ]
  },
  {
   "cell_type": "code",
   "execution_count": null,
   "metadata": {
    "colab": {
     "base_uri": "https://localhost:8080/"
    },
    "id": "1Aa_rNSGMhZu",
    "outputId": "da98a0a5-2548-4c0e-f898-2f486d4fd886"
   },
   "outputs": [
    {
     "data": {
      "text/plain": [
       "42"
      ]
     },
     "execution_count": 11,
     "metadata": {},
     "output_type": "execute_result"
    }
   ],
   "source": [
    "count"
   ]
  },
  {
   "cell_type": "markdown",
   "metadata": {
    "id": "iqUvpFGcySXa"
   },
   "source": [
    "## Convert tf-lite"
   ]
  },
  {
   "cell_type": "code",
   "execution_count": null,
   "metadata": {
    "id": "CSXeUw4Er-IF"
   },
   "outputs": [],
   "source": [
    "model_tf.input[0].set_shape([1, 512, 512, 3])\n",
    "model_tf.input[1].set_shape([1, 512, 512, 1])\n",
    "model_tf.input[2].set_shape([1, 512, 512, 1])"
   ]
  },
  {
   "cell_type": "code",
   "execution_count": null,
   "metadata": {
    "id": "JeQRwwsrySXt"
   },
   "outputs": [],
   "source": [
    "converter = tf.lite.TFLiteConverter.from_keras_model(model_tf)\n",
    "converter.optimizations = [tf.lite.Optimize.DEFAULT]\n",
    "converter.target_spec.supported_types = [tf.float16]\n",
    "converter.target_spec.supported_ops = [tf.lite.OpsSet.TFLITE_BUILTINS, tf.lite.OpsSet.SELECT_TF_OPS]\n",
    "converter.allow_custom_ops = True\n",
    "converter.experimental_new_converter = True"
   ]
  },
  {
   "cell_type": "code",
   "execution_count": null,
   "metadata": {
    "colab": {
     "base_uri": "https://localhost:8080/"
    },
    "id": "zExCTvbsySXu",
    "outputId": "102dfedf-ba0c-4954-96ce-10d47ca42570"
   },
   "outputs": [
    {
     "name": "stdout",
     "output_type": "stream",
     "text": [
      "INFO:tensorflow:Assets written to: /tmp/tmprewzxp5g/assets\n"
     ]
    },
    {
     "name": "stderr",
     "output_type": "stream",
     "text": [
      "INFO:tensorflow:Assets written to: /tmp/tmprewzxp5g/assets\n"
     ]
    }
   ],
   "source": [
    "tflite_model = converter.convert()"
   ]
  },
  {
   "cell_type": "code",
   "execution_count": null,
   "metadata": {
    "id": "TY7aV3s5M0Zt"
   },
   "outputs": [],
   "source": [
    "with open('./cr_origin_high_res.tflite', 'wb') as f:\n",
    "  f.write(tflite_model)"
   ]
  },
  {
   "cell_type": "code",
   "execution_count": null,
   "metadata": {
    "id": "POy3xS9HySXv"
   },
   "outputs": [],
   "source": [
    "tflite = tf.lite.Interpreter(model_path=\"./cr_origin_high_res.tflite\")"
   ]
  },
  {
   "cell_type": "code",
   "execution_count": null,
   "metadata": {
    "id": "yx9C_C4rySXv"
   },
   "outputs": [],
   "source": [
    "input_details = tflite.get_input_details()\n",
    "output_details = tflite.get_output_details()"
   ]
  },
  {
   "cell_type": "code",
   "execution_count": null,
   "metadata": {
    "colab": {
     "base_uri": "https://localhost:8080/"
    },
    "id": "u-aLjMLTySXw",
    "outputId": "20efea2d-7682-4d7d-a4c6-06aacbfecaf2"
   },
   "outputs": [
    {
     "data": {
      "text/plain": [
       "[{'dtype': numpy.float32,\n",
       "  'index': 0,\n",
       "  'name': 'input_1',\n",
       "  'quantization': (0.0, 0),\n",
       "  'quantization_parameters': {'quantized_dimension': 0,\n",
       "   'scales': array([], dtype=float32),\n",
       "   'zero_points': array([], dtype=int32)},\n",
       "  'shape': array([  1, 512, 512,   3], dtype=int32),\n",
       "  'shape_signature': array([  1, 512, 512,   3], dtype=int32),\n",
       "  'sparsity_parameters': {}},\n",
       " {'dtype': numpy.float32,\n",
       "  'index': 1,\n",
       "  'name': 'input_2',\n",
       "  'quantization': (0.0, 0),\n",
       "  'quantization_parameters': {'quantized_dimension': 0,\n",
       "   'scales': array([], dtype=float32),\n",
       "   'zero_points': array([], dtype=int32)},\n",
       "  'shape': array([  1, 512, 512,   1], dtype=int32),\n",
       "  'shape_signature': array([  1, 512, 512,   1], dtype=int32),\n",
       "  'sparsity_parameters': {}},\n",
       " {'dtype': numpy.float32,\n",
       "  'index': 2,\n",
       "  'name': 'input_3',\n",
       "  'quantization': (0.0, 0),\n",
       "  'quantization_parameters': {'quantized_dimension': 0,\n",
       "   'scales': array([], dtype=float32),\n",
       "   'zero_points': array([], dtype=int32)},\n",
       "  'shape': array([  1, 512, 512,   1], dtype=int32),\n",
       "  'shape_signature': array([  1, 512, 512,   1], dtype=int32),\n",
       "  'sparsity_parameters': {}}]"
      ]
     },
     "execution_count": 33,
     "metadata": {},
     "output_type": "execute_result"
    }
   ],
   "source": [
    "input_details"
   ]
  },
  {
   "cell_type": "code",
   "execution_count": null,
   "metadata": {
    "id": "eXs8vdWYySXx"
   },
   "outputs": [],
   "source": [
    "tflite.resize_tensor_input(\n",
    "    input_details[0]['index'], (1, 512, 512, 3))\n",
    "tflite.resize_tensor_input(\n",
    "    input_details[1]['index'], (1, 512, 512, 1))\n",
    "tflite.resize_tensor_input(\n",
    "    input_details[2]['index'], (1, 512, 512, 1))"
   ]
  },
  {
   "cell_type": "code",
   "execution_count": null,
   "metadata": {
    "colab": {
     "base_uri": "https://localhost:8080/"
    },
    "id": "M1J6y7KLySXy",
    "outputId": "7d688c29-a973-4569-ec01-60722c8d1d95"
   },
   "outputs": [
    {
     "data": {
      "text/plain": [
       "[{'dtype': numpy.float32,\n",
       "  'index': 421,\n",
       "  'name': 'Identity',\n",
       "  'quantization': (0.0, 0),\n",
       "  'quantization_parameters': {'quantized_dimension': 0,\n",
       "   'scales': array([], dtype=float32),\n",
       "   'zero_points': array([], dtype=int32)},\n",
       "  'shape': array([  1, 512, 512,   3], dtype=int32),\n",
       "  'shape_signature': array([ -1, 512, 512,   3], dtype=int32),\n",
       "  'sparsity_parameters': {}},\n",
       " {'dtype': numpy.float32,\n",
       "  'index': 363,\n",
       "  'name': 'Identity_1',\n",
       "  'quantization': (0.0, 0),\n",
       "  'quantization_parameters': {'quantized_dimension': 0,\n",
       "   'scales': array([], dtype=float32),\n",
       "   'zero_points': array([], dtype=int32)},\n",
       "  'shape': array([  1, 128, 128,  96], dtype=int32),\n",
       "  'shape_signature': array([ -1, 128, 128,  96], dtype=int32),\n",
       "  'sparsity_parameters': {}}]"
      ]
     },
     "execution_count": 21,
     "metadata": {},
     "output_type": "execute_result"
    }
   ],
   "source": [
    "tflite.get_output_details()"
   ]
  }
 ],
 "metadata": {
  "colab": {
   "collapsed_sections": [],
   "machine_shape": "hm",
   "name": "torch_to_tf_fix.ipynb",
   "provenance": []
  },
  "kernelspec": {
   "display_name": "Python 3",
   "language": "python",
   "name": "python3"
  },
  "language_info": {
   "codemirror_mode": {
    "name": "ipython",
    "version": 3
   },
   "file_extension": ".py",
   "mimetype": "text/x-python",
   "name": "python",
   "nbconvert_exporter": "python",
   "pygments_lexer": "ipython3",
   "version": "3.6.12"
  }
 },
 "nbformat": 4,
 "nbformat_minor": 1
}
